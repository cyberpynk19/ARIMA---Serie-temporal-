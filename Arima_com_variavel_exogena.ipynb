{
  "nbformat": 4,
  "nbformat_minor": 0,
  "metadata": {
    "colab": {
      "name": "Arima com variavel exogena.ipynb",
      "provenance": [],
      "collapsed_sections": [
        "L2oSnFyc5Uk5",
        "AGwVPvqZ7s91",
        "AhkbAQpd5a55"
      ],
      "toc_visible": true
    },
    "kernelspec": {
      "display_name": "Python 3",
      "name": "python3"
    },
    "language_info": {
      "name": "python"
    }
  },
  "cells": [
    {
      "cell_type": "markdown",
      "metadata": {
        "id": "L2oSnFyc5Uk5"
      },
      "source": [
        "#Importando pacotes"
      ]
    },
    {
      "cell_type": "code",
      "metadata": {
        "colab": {
          "base_uri": "https://localhost:8080/"
        },
        "id": "-D5dla1_qXt0",
        "outputId": "e787bd2b-a6fd-4fad-872e-9d4cc523e2a5"
      },
      "source": [
        "pip install git+https://github.com/statsmodels/statsmodels.git"
      ],
      "execution_count": null,
      "outputs": [
        {
          "output_type": "stream",
          "text": [
            "Collecting git+https://github.com/statsmodels/statsmodels.git\n",
            "  Cloning https://github.com/statsmodels/statsmodels.git to /tmp/pip-req-build-dgdajcom\n",
            "  Running command git clone -q https://github.com/statsmodels/statsmodels.git /tmp/pip-req-build-dgdajcom\n",
            "  Installing build dependencies ... \u001b[?25l\u001b[?25hdone\n",
            "  Getting requirements to build wheel ... \u001b[?25l\u001b[?25hdone\n",
            "    Preparing wheel metadata ... \u001b[?25l\u001b[?25hdone\n",
            "Requirement already satisfied: numpy>=1.17 in /usr/local/lib/python3.7/dist-packages (from statsmodels==0.13.0.dev0+619.g5c3f9b34e) (1.19.5)\n",
            "Requirement already satisfied: pandas>=0.25 in /usr/local/lib/python3.7/dist-packages (from statsmodels==0.13.0.dev0+619.g5c3f9b34e) (1.1.5)\n",
            "Requirement already satisfied: scipy>=1.3 in /usr/local/lib/python3.7/dist-packages (from statsmodels==0.13.0.dev0+619.g5c3f9b34e) (1.4.1)\n",
            "Requirement already satisfied: patsy>=0.5.1 in /usr/local/lib/python3.7/dist-packages (from statsmodels==0.13.0.dev0+619.g5c3f9b34e) (0.5.1)\n",
            "Requirement already satisfied: pytz>=2017.2 in /usr/local/lib/python3.7/dist-packages (from pandas>=0.25->statsmodels==0.13.0.dev0+619.g5c3f9b34e) (2018.9)\n",
            "Requirement already satisfied: python-dateutil>=2.7.3 in /usr/local/lib/python3.7/dist-packages (from pandas>=0.25->statsmodels==0.13.0.dev0+619.g5c3f9b34e) (2.8.2)\n",
            "Requirement already satisfied: six in /usr/local/lib/python3.7/dist-packages (from patsy>=0.5.1->statsmodels==0.13.0.dev0+619.g5c3f9b34e) (1.15.0)\n",
            "Building wheels for collected packages: statsmodels\n",
            "  Building wheel for statsmodels (PEP 517) ... \u001b[?25l\u001b[?25hdone\n",
            "  Created wheel for statsmodels: filename=statsmodels-0.13.0.dev0+619.g5c3f9b34e-cp37-cp37m-linux_x86_64.whl size=17670973 sha256=52e04f0cdd931b9269dfa56138c7bf4adc2c794876c312b39ecb9e3768d5d3cb\n",
            "  Stored in directory: /tmp/pip-ephem-wheel-cache-hbgb2fx9/wheels/5c/ab/d8/d9505a18dd992621edd24cfddb9a1bd694dee85c065c0a6e57\n",
            "Successfully built statsmodels\n",
            "Installing collected packages: statsmodels\n",
            "  Attempting uninstall: statsmodels\n",
            "    Found existing installation: statsmodels 0.10.2\n",
            "    Uninstalling statsmodels-0.10.2:\n",
            "      Successfully uninstalled statsmodels-0.10.2\n",
            "Successfully installed statsmodels-0.13.0.dev0+619.g5c3f9b34e\n"
          ],
          "name": "stdout"
        }
      ]
    },
    {
      "cell_type": "code",
      "metadata": {
        "id": "gsu61WKweeih"
      },
      "source": [
        "import pandas as pd\n",
        "import statsmodels.formula.api as smf\n",
        "import numpy as np\n",
        "import matplotlib.pyplot as plt\n",
        "import math\n",
        "import sympy\n",
        "from sklearn.metrics import mean_squared_error\n",
        "%matplotlib inline\n",
        "from statsmodels.tsa.api import VAR\n",
        "from statsmodels.tsa.stattools import adfuller\n",
        "from statsmodels.tools.eval_measures import rmse, aic\n",
        "from statsmodels.tsa.stattools import grangercausalitytests\n",
        "from statsmodels.tsa.vector_ar.vecm import coint_johansen\n",
        "from statsmodels.stats.stattools import durbin_watson\n",
        "from statsmodels.tsa.stattools import acf"
      ],
      "execution_count": null,
      "outputs": []
    },
    {
      "cell_type": "markdown",
      "metadata": {
        "id": "AGwVPvqZ7s91"
      },
      "source": [
        "#Importando os dados"
      ]
    },
    {
      "cell_type": "code",
      "metadata": {
        "id": "1kwjhQnXla63"
      },
      "source": [
        "dados = pd.read_excel('Teste_USP.xlsx')"
      ],
      "execution_count": null,
      "outputs": []
    },
    {
      "cell_type": "code",
      "metadata": {
        "colab": {
          "base_uri": "https://localhost:8080/"
        },
        "id": "qkfEsZUGljiN",
        "outputId": "7ff0e667-a5f1-4461-cee7-693662dc460a"
      },
      "source": [
        "dados.head()"
      ],
      "execution_count": null,
      "outputs": [
        {
          "output_type": "execute_result",
          "data": {
            "text/html": [
              "<div>\n",
              "<style scoped>\n",
              "    .dataframe tbody tr th:only-of-type {\n",
              "        vertical-align: middle;\n",
              "    }\n",
              "\n",
              "    .dataframe tbody tr th {\n",
              "        vertical-align: top;\n",
              "    }\n",
              "\n",
              "    .dataframe thead th {\n",
              "        text-align: right;\n",
              "    }\n",
              "</style>\n",
              "<table border=\"1\" class=\"dataframe\">\n",
              "  <thead>\n",
              "    <tr style=\"text-align: right;\">\n",
              "      <th></th>\n",
              "      <th>Date</th>\n",
              "      <th>Trucks</th>\n",
              "      <th>IBCBR</th>\n",
              "      <th>Corrente de Comércio</th>\n",
              "      <th>Confiança</th>\n",
              "      <th>IPCA</th>\n",
              "      <th>Credito</th>\n",
              "      <th>Consumo de Energia</th>\n",
              "      <th>IC</th>\n",
              "      <th>du</th>\n",
              "      <th>Selic</th>\n",
              "      <th>PMC</th>\n",
              "      <th>PIM</th>\n",
              "      <th>NUCI</th>\n",
              "      <th>IAE</th>\n",
              "      <th>E</th>\n",
              "      <th>FBKF</th>\n",
              "    </tr>\n",
              "  </thead>\n",
              "  <tbody>\n",
              "    <tr>\n",
              "      <th>0</th>\n",
              "      <td>2003-01-01</td>\n",
              "      <td>4960.406782</td>\n",
              "      <td>100.48</td>\n",
              "      <td>34250.018637</td>\n",
              "      <td>97.8</td>\n",
              "      <td>2.20</td>\n",
              "      <td>384508.0</td>\n",
              "      <td>24967.907646</td>\n",
              "      <td>101.45</td>\n",
              "      <td>22</td>\n",
              "      <td>25.5</td>\n",
              "      <td>47.2</td>\n",
              "      <td>79.8</td>\n",
              "      <td>80.6</td>\n",
              "      <td>NaN</td>\n",
              "      <td>111.356</td>\n",
              "      <td>107.580547</td>\n",
              "    </tr>\n",
              "    <tr>\n",
              "      <th>1</th>\n",
              "      <td>2003-02-01</td>\n",
              "      <td>6247.814356</td>\n",
              "      <td>102.01</td>\n",
              "      <td>36024.354730</td>\n",
              "      <td>96.0</td>\n",
              "      <td>1.55</td>\n",
              "      <td>388320.0</td>\n",
              "      <td>25073.179942</td>\n",
              "      <td>109.05</td>\n",
              "      <td>20</td>\n",
              "      <td>26.5</td>\n",
              "      <td>48.0</td>\n",
              "      <td>79.7</td>\n",
              "      <td>80.3</td>\n",
              "      <td>NaN</td>\n",
              "      <td>114.589</td>\n",
              "      <td>105.382185</td>\n",
              "    </tr>\n",
              "    <tr>\n",
              "      <th>2</th>\n",
              "      <td>2003-03-01</td>\n",
              "      <td>5199.720503</td>\n",
              "      <td>101.76</td>\n",
              "      <td>35491.787728</td>\n",
              "      <td>93.1</td>\n",
              "      <td>1.22</td>\n",
              "      <td>386969.0</td>\n",
              "      <td>24800.866571</td>\n",
              "      <td>100.18</td>\n",
              "      <td>20</td>\n",
              "      <td>26.5</td>\n",
              "      <td>46.6</td>\n",
              "      <td>79.8</td>\n",
              "      <td>80.1</td>\n",
              "      <td>NaN</td>\n",
              "      <td>109.121</td>\n",
              "      <td>98.641268</td>\n",
              "    </tr>\n",
              "    <tr>\n",
              "      <th>3</th>\n",
              "      <td>2003-04-01</td>\n",
              "      <td>5416.424894</td>\n",
              "      <td>100.95</td>\n",
              "      <td>34301.013803</td>\n",
              "      <td>91.1</td>\n",
              "      <td>0.94</td>\n",
              "      <td>383307.0</td>\n",
              "      <td>24512.253853</td>\n",
              "      <td>90.84</td>\n",
              "      <td>20</td>\n",
              "      <td>26.5</td>\n",
              "      <td>46.6</td>\n",
              "      <td>79.5</td>\n",
              "      <td>79.9</td>\n",
              "      <td>NaN</td>\n",
              "      <td>96.720</td>\n",
              "      <td>101.280944</td>\n",
              "    </tr>\n",
              "    <tr>\n",
              "      <th>4</th>\n",
              "      <td>2003-05-01</td>\n",
              "      <td>5637.510125</td>\n",
              "      <td>99.79</td>\n",
              "      <td>38008.220507</td>\n",
              "      <td>88.9</td>\n",
              "      <td>0.65</td>\n",
              "      <td>386300.0</td>\n",
              "      <td>25033.870618</td>\n",
              "      <td>87.33</td>\n",
              "      <td>21</td>\n",
              "      <td>26.5</td>\n",
              "      <td>46.3</td>\n",
              "      <td>77.8</td>\n",
              "      <td>79.2</td>\n",
              "      <td>NaN</td>\n",
              "      <td>92.504</td>\n",
              "      <td>97.286746</td>\n",
              "    </tr>\n",
              "  </tbody>\n",
              "</table>\n",
              "</div>"
            ],
            "text/plain": [
              "        Date       Trucks   IBCBR  ...  IAE        E        FBKF\n",
              "0 2003-01-01  4960.406782  100.48  ...  NaN  111.356  107.580547\n",
              "1 2003-02-01  6247.814356  102.01  ...  NaN  114.589  105.382185\n",
              "2 2003-03-01  5199.720503  101.76  ...  NaN  109.121   98.641268\n",
              "3 2003-04-01  5416.424894  100.95  ...  NaN   96.720  101.280944\n",
              "4 2003-05-01  5637.510125   99.79  ...  NaN   92.504   97.286746\n",
              "\n",
              "[5 rows x 17 columns]"
            ]
          },
          "metadata": {
            "tags": []
          },
          "execution_count": 5
        }
      ]
    },
    {
      "cell_type": "markdown",
      "metadata": {
        "id": "AhkbAQpd5a55"
      },
      "source": [
        "#Substituindo os \"NANS\" pela media dos valores de cada coluna\n"
      ]
    },
    {
      "cell_type": "code",
      "metadata": {
        "colab": {
          "base_uri": "https://localhost:8080/"
        },
        "id": "7ZEe9wqb2FQR",
        "outputId": "4397f6e5-ff66-4968-a349-c3182455fa60"
      },
      "source": [
        "# convertemos para o formato Numpy e ignoramos a última coluna (classe)\n",
        "X = np.array(dados[dados.columns[1:dados.shape[1]]], dtype = float) \n",
        "# calculamos a média de cada atributo e armazenamos em um vetor\n",
        "# Usamos a função nanmean que calcula a média ignorando os Nan\n",
        "averages = np.nanmean(X, axis = 0) # veja https://docs.scipy.org/doc/numpy/reference/generated/numpy.nanmean.html\n",
        "for i in np.arange(0, X.shape[0]):\n",
        "    for j in np.arange(0, X.shape[1]):\n",
        "        if(np.isnan(X[i,j]) == True): # verificar se é uma entrada com Nan\n",
        "            X[i,j] = averages[j] # insere a média\n",
        "print(X)"
      ],
      "execution_count": null,
      "outputs": [
        {
          "output_type": "stream",
          "text": [
            "[[4.96040678e+03 1.00480000e+02 3.42500186e+04 ... 8.57569620e+01\n",
            "  1.11356000e+02 1.07580547e+02]\n",
            " [6.24781436e+03 1.02010000e+02 3.60243547e+04 ... 8.57569620e+01\n",
            "  1.14589000e+02 1.05382185e+02]\n",
            " [5.19972050e+03 1.01760000e+02 3.54917877e+04 ... 8.57569620e+01\n",
            "  1.09121000e+02 9.86412681e+01]\n",
            " ...\n",
            " [1.17685466e+04 1.39110000e+02 7.65262569e+04 ... 8.34000000e+01\n",
            "  6.06050000e+01 1.48802389e+02]\n",
            " [1.12040587e+04 1.30508190e+02 7.79774700e+04 ... 8.76000000e+01\n",
            "  5.80570000e+01 1.48802389e+02]\n",
            " [8.53507890e+03 1.30508190e+02 5.63884912e+04 ... 8.92000000e+01\n",
            "  5.90350000e+01 1.48802389e+02]]\n"
          ],
          "name": "stdout"
        }
      ]
    },
    {
      "cell_type": "code",
      "metadata": {
        "id": "5PA8Wrpz2FHo"
      },
      "source": [
        "lista = list(dados.drop_duplicates())\n",
        "lista = lista[1:17]\n",
        "data = pd.DataFrame(X)\n",
        "data.columns = lista"
      ],
      "execution_count": null,
      "outputs": []
    },
    {
      "cell_type": "code",
      "metadata": {
        "id": "6B6puKVr2E7M"
      },
      "source": [
        "data['Date']= dados['Date']\n",
        "lista2 = list(dados.drop_duplicates())\n",
        "data = data[lista2]\n",
        "data.index = pd.to_datetime(data.Date)\n",
        "data.drop(columns= ['Date'], inplace=True)\n"
      ],
      "execution_count": null,
      "outputs": []
    },
    {
      "cell_type": "code",
      "metadata": {
        "id": "GDJoPbWcYNjB"
      },
      "source": [
        "x = []\n",
        "y = data['IPCA'].dropna()\n",
        "for i in data['IPCA']:\n",
        "  x.append(i)"
      ],
      "execution_count": null,
      "outputs": []
    },
    {
      "cell_type": "code",
      "metadata": {
        "id": "PfBhppfsYe_l"
      },
      "source": [
        "sum = 0\n",
        "tamanho = 0\n",
        "for i in x:\n",
        "  sum += i\n",
        "  tamanho +=1\n",
        "  media = sum / tamanho \n"
      ],
      "execution_count": null,
      "outputs": []
    },
    {
      "cell_type": "code",
      "metadata": {
        "colab": {
          "base_uri": "https://localhost:8080/"
        },
        "id": "ArEhyKt7az54",
        "outputId": "f27ad8eb-5b4c-4962-ed61-8656b30f8079"
      },
      "source": [
        "media"
      ],
      "execution_count": null,
      "outputs": [
        {
          "output_type": "execute_result",
          "data": {
            "text/plain": [
              "0.46990990990991"
            ]
          },
          "metadata": {
            "tags": []
          },
          "execution_count": 11
        }
      ]
    },
    {
      "cell_type": "code",
      "metadata": {
        "colab": {
          "base_uri": "https://localhost:8080/"
        },
        "id": "glZ2u6Om87Qw",
        "outputId": "30c76634-b9ce-4356-8fb1-eafa9f03010c"
      },
      "source": [
        "data.info()"
      ],
      "execution_count": null,
      "outputs": [
        {
          "output_type": "stream",
          "text": [
            "<class 'pandas.core.frame.DataFrame'>\n",
            "DatetimeIndex: 223 entries, 2003-01-01 to 2021-07-01\n",
            "Data columns (total 16 columns):\n",
            " #   Column                Non-Null Count  Dtype  \n",
            "---  ------                --------------  -----  \n",
            " 0   Trucks                223 non-null    float64\n",
            " 1   IBCBR                 223 non-null    float64\n",
            " 2   Corrente de Comércio  223 non-null    float64\n",
            " 3   Confiança             223 non-null    float64\n",
            " 4   IPCA                  223 non-null    float64\n",
            " 5   Credito               223 non-null    float64\n",
            " 6   Consumo de Energia    223 non-null    float64\n",
            " 7   IC                    223 non-null    float64\n",
            " 8   du                    223 non-null    float64\n",
            " 9   Selic                 223 non-null    float64\n",
            " 10  PMC                   223 non-null    float64\n",
            " 11  PIM                   223 non-null    float64\n",
            " 12  NUCI                  223 non-null    float64\n",
            " 13  IAE                   223 non-null    float64\n",
            " 14  E                     223 non-null    float64\n",
            " 15  FBKF                  223 non-null    float64\n",
            "dtypes: float64(16)\n",
            "memory usage: 29.6 KB\n"
          ],
          "name": "stdout"
        }
      ]
    },
    {
      "cell_type": "code",
      "metadata": {
        "id": "KC6RIkAKDLUL"
      },
      "source": [
        "#data.index = pd.to_datetime(data.Date)"
      ],
      "execution_count": null,
      "outputs": []
    },
    {
      "cell_type": "markdown",
      "metadata": {
        "id": "rVlXxez_5kP4"
      },
      "source": [
        "#Transformação logarítmica dos dados"
      ]
    },
    {
      "cell_type": "code",
      "metadata": {
        "colab": {
          "base_uri": "https://localhost:8080/"
        },
        "id": "oQcsWnrJ4Oid",
        "outputId": "aa8f5025-64a8-4834-a5db-a6e5cbf4e109"
      },
      "source": [
        "data[lista] = data[lista].apply(lambda x: np.log(x))"
      ],
      "execution_count": null,
      "outputs": [
        {
          "output_type": "stream",
          "text": [
            "/usr/local/lib/python3.7/dist-packages/pandas/core/series.py:726: RuntimeWarning: divide by zero encountered in log\n",
            "  result = getattr(ufunc, method)(*inputs, **kwargs)\n",
            "/usr/local/lib/python3.7/dist-packages/pandas/core/series.py:726: RuntimeWarning: invalid value encountered in log\n",
            "  result = getattr(ufunc, method)(*inputs, **kwargs)\n"
          ],
          "name": "stderr"
        }
      ]
    },
    {
      "cell_type": "code",
      "metadata": {
        "id": "5Q60m9znfMPR"
      },
      "source": [
        "x = data['IPCA']\n",
        "data = data.drop(['IPCA'], axis =1)\n"
      ],
      "execution_count": null,
      "outputs": []
    },
    {
      "cell_type": "code",
      "metadata": {
        "colab": {
          "base_uri": "https://localhost:8080/"
        },
        "id": "pkkiDuOBfLEQ",
        "outputId": "c0d5902f-4e8b-4e6c-fbcd-844c213059d2"
      },
      "source": [
        "ipca = []\n",
        "for i in x:\n",
        "  ipca.append(np.log(i))\n",
        "\n",
        "data['IPCA'] = ipca"
      ],
      "execution_count": null,
      "outputs": [
        {
          "output_type": "stream",
          "text": [
            "/usr/local/lib/python3.7/dist-packages/ipykernel_launcher.py:3: RuntimeWarning: invalid value encountered in log\n",
            "  This is separate from the ipykernel package so we can avoid doing imports until\n"
          ],
          "name": "stderr"
        }
      ]
    },
    {
      "cell_type": "code",
      "metadata": {
        "colab": {
          "base_uri": "https://localhost:8080/"
        },
        "id": "Uf8Jycns8gTQ",
        "outputId": "756388d0-fcee-400d-8639-a8701edaa0db"
      },
      "source": [
        "data.info()"
      ],
      "execution_count": null,
      "outputs": [
        {
          "output_type": "stream",
          "text": [
            "<class 'pandas.core.frame.DataFrame'>\n",
            "DatetimeIndex: 223 entries, 2003-01-01 to 2021-07-01\n",
            "Data columns (total 16 columns):\n",
            " #   Column                Non-Null Count  Dtype  \n",
            "---  ------                --------------  -----  \n",
            " 0   Trucks                223 non-null    float64\n",
            " 1   IBCBR                 223 non-null    float64\n",
            " 2   Corrente de Comércio  223 non-null    float64\n",
            " 3   Confiança             223 non-null    float64\n",
            " 4   Credito               223 non-null    float64\n",
            " 5   Consumo de Energia    223 non-null    float64\n",
            " 6   IC                    223 non-null    float64\n",
            " 7   du                    223 non-null    float64\n",
            " 8   Selic                 223 non-null    float64\n",
            " 9   PMC                   223 non-null    float64\n",
            " 10  PIM                   223 non-null    float64\n",
            " 11  NUCI                  223 non-null    float64\n",
            " 12  IAE                   223 non-null    float64\n",
            " 13  E                     223 non-null    float64\n",
            " 14  FBKF                  223 non-null    float64\n",
            " 15  IPCA                  10 non-null     float64\n",
            "dtypes: float64(16)\n",
            "memory usage: 29.6 KB\n"
          ],
          "name": "stdout"
        }
      ]
    },
    {
      "cell_type": "code",
      "metadata": {
        "colab": {
          "base_uri": "https://localhost:8080/",
          "height": 674
        },
        "id": "3EaDJ2yQfKJ_",
        "outputId": "3f822c16-f32c-47b9-dc91-e8a944e287b4"
      },
      "source": [
        "data"
      ],
      "execution_count": null,
      "outputs": [
        {
          "output_type": "execute_result",
          "data": {
            "text/html": [
              "<div>\n",
              "<style scoped>\n",
              "    .dataframe tbody tr th:only-of-type {\n",
              "        vertical-align: middle;\n",
              "    }\n",
              "\n",
              "    .dataframe tbody tr th {\n",
              "        vertical-align: top;\n",
              "    }\n",
              "\n",
              "    .dataframe thead th {\n",
              "        text-align: right;\n",
              "    }\n",
              "</style>\n",
              "<table border=\"1\" class=\"dataframe\">\n",
              "  <thead>\n",
              "    <tr style=\"text-align: right;\">\n",
              "      <th></th>\n",
              "      <th>Trucks</th>\n",
              "      <th>IBCBR</th>\n",
              "      <th>Corrente de Comércio</th>\n",
              "      <th>Confiança</th>\n",
              "      <th>Credito</th>\n",
              "      <th>Consumo de Energia</th>\n",
              "      <th>IC</th>\n",
              "      <th>du</th>\n",
              "      <th>Selic</th>\n",
              "      <th>PMC</th>\n",
              "      <th>PIM</th>\n",
              "      <th>NUCI</th>\n",
              "      <th>IAE</th>\n",
              "      <th>E</th>\n",
              "      <th>FBKF</th>\n",
              "      <th>IPCA</th>\n",
              "    </tr>\n",
              "    <tr>\n",
              "      <th>Date</th>\n",
              "      <th></th>\n",
              "      <th></th>\n",
              "      <th></th>\n",
              "      <th></th>\n",
              "      <th></th>\n",
              "      <th></th>\n",
              "      <th></th>\n",
              "      <th></th>\n",
              "      <th></th>\n",
              "      <th></th>\n",
              "      <th></th>\n",
              "      <th></th>\n",
              "      <th></th>\n",
              "      <th></th>\n",
              "      <th></th>\n",
              "      <th></th>\n",
              "    </tr>\n",
              "  </thead>\n",
              "  <tbody>\n",
              "    <tr>\n",
              "      <th>2003-01-01</th>\n",
              "      <td>8.509243</td>\n",
              "      <td>4.609959</td>\n",
              "      <td>10.441442</td>\n",
              "      <td>4.582925</td>\n",
              "      <td>12.859720</td>\n",
              "      <td>10.125347</td>\n",
              "      <td>4.619566</td>\n",
              "      <td>3.091042</td>\n",
              "      <td>3.238678</td>\n",
              "      <td>3.854394</td>\n",
              "      <td>4.379524</td>\n",
              "      <td>4.389499</td>\n",
              "      <td>4.451517</td>\n",
              "      <td>4.712732</td>\n",
              "      <td>4.678240</td>\n",
              "      <td>-0.237677</td>\n",
              "    </tr>\n",
              "    <tr>\n",
              "      <th>2003-02-01</th>\n",
              "      <td>8.739987</td>\n",
              "      <td>4.625071</td>\n",
              "      <td>10.491951</td>\n",
              "      <td>4.564348</td>\n",
              "      <td>12.869585</td>\n",
              "      <td>10.129554</td>\n",
              "      <td>4.691806</td>\n",
              "      <td>2.995732</td>\n",
              "      <td>3.277145</td>\n",
              "      <td>3.871201</td>\n",
              "      <td>4.378270</td>\n",
              "      <td>4.385770</td>\n",
              "      <td>4.451517</td>\n",
              "      <td>4.741352</td>\n",
              "      <td>4.657594</td>\n",
              "      <td>-0.824955</td>\n",
              "    </tr>\n",
              "    <tr>\n",
              "      <th>2003-03-01</th>\n",
              "      <td>8.556360</td>\n",
              "      <td>4.622617</td>\n",
              "      <td>10.477057</td>\n",
              "      <td>4.533674</td>\n",
              "      <td>12.866100</td>\n",
              "      <td>10.118634</td>\n",
              "      <td>4.606969</td>\n",
              "      <td>2.995732</td>\n",
              "      <td>3.277145</td>\n",
              "      <td>3.841601</td>\n",
              "      <td>4.379524</td>\n",
              "      <td>4.383276</td>\n",
              "      <td>4.451517</td>\n",
              "      <td>4.692457</td>\n",
              "      <td>4.591490</td>\n",
              "      <td>-1.615200</td>\n",
              "    </tr>\n",
              "    <tr>\n",
              "      <th>2003-04-01</th>\n",
              "      <td>8.597191</td>\n",
              "      <td>4.614625</td>\n",
              "      <td>10.442930</td>\n",
              "      <td>4.511958</td>\n",
              "      <td>12.856592</td>\n",
              "      <td>10.106928</td>\n",
              "      <td>4.509100</td>\n",
              "      <td>2.995732</td>\n",
              "      <td>3.277145</td>\n",
              "      <td>3.841601</td>\n",
              "      <td>4.375757</td>\n",
              "      <td>4.380776</td>\n",
              "      <td>4.451517</td>\n",
              "      <td>4.571820</td>\n",
              "      <td>4.617898</td>\n",
              "      <td>NaN</td>\n",
              "    </tr>\n",
              "    <tr>\n",
              "      <th>2003-05-01</th>\n",
              "      <td>8.637198</td>\n",
              "      <td>4.603068</td>\n",
              "      <td>10.545558</td>\n",
              "      <td>4.487512</td>\n",
              "      <td>12.864370</td>\n",
              "      <td>10.127985</td>\n",
              "      <td>4.469694</td>\n",
              "      <td>3.044522</td>\n",
              "      <td>3.277145</td>\n",
              "      <td>3.835142</td>\n",
              "      <td>4.354141</td>\n",
              "      <td>4.371976</td>\n",
              "      <td>4.451517</td>\n",
              "      <td>4.527252</td>\n",
              "      <td>4.577663</td>\n",
              "      <td>NaN</td>\n",
              "    </tr>\n",
              "    <tr>\n",
              "      <th>...</th>\n",
              "      <td>...</td>\n",
              "      <td>...</td>\n",
              "      <td>...</td>\n",
              "      <td>...</td>\n",
              "      <td>...</td>\n",
              "      <td>...</td>\n",
              "      <td>...</td>\n",
              "      <td>...</td>\n",
              "      <td>...</td>\n",
              "      <td>...</td>\n",
              "      <td>...</td>\n",
              "      <td>...</td>\n",
              "      <td>...</td>\n",
              "      <td>...</td>\n",
              "      <td>...</td>\n",
              "      <td>...</td>\n",
              "    </tr>\n",
              "    <tr>\n",
              "      <th>2021-03-01</th>\n",
              "      <td>9.224006</td>\n",
              "      <td>4.931087</td>\n",
              "      <td>11.239218</td>\n",
              "      <td>4.448516</td>\n",
              "      <td>15.227832</td>\n",
              "      <td>10.649545</td>\n",
              "      <td>5.793684</td>\n",
              "      <td>3.135494</td>\n",
              "      <td>1.011601</td>\n",
              "      <td>4.558079</td>\n",
              "      <td>4.472781</td>\n",
              "      <td>4.360548</td>\n",
              "      <td>4.345103</td>\n",
              "      <td>4.225110</td>\n",
              "      <td>5.155246</td>\n",
              "      <td>NaN</td>\n",
              "    </tr>\n",
              "    <tr>\n",
              "      <th>2021-04-01</th>\n",
              "      <td>9.197865</td>\n",
              "      <td>4.939569</td>\n",
              "      <td>11.256319</td>\n",
              "      <td>4.490881</td>\n",
              "      <td>15.233178</td>\n",
              "      <td>10.633169</td>\n",
              "      <td>5.805737</td>\n",
              "      <td>2.995732</td>\n",
              "      <td>1.011601</td>\n",
              "      <td>4.606170</td>\n",
              "      <td>4.457830</td>\n",
              "      <td>4.339902</td>\n",
              "      <td>4.365643</td>\n",
              "      <td>4.194688</td>\n",
              "      <td>4.956780</td>\n",
              "      <td>NaN</td>\n",
              "    </tr>\n",
              "    <tr>\n",
              "      <th>2021-05-01</th>\n",
              "      <td>9.373186</td>\n",
              "      <td>4.935265</td>\n",
              "      <td>11.245389</td>\n",
              "      <td>4.548600</td>\n",
              "      <td>15.244912</td>\n",
              "      <td>10.616003</td>\n",
              "      <td>5.816724</td>\n",
              "      <td>3.044522</td>\n",
              "      <td>1.252763</td>\n",
              "      <td>4.620059</td>\n",
              "      <td>4.471639</td>\n",
              "      <td>4.354141</td>\n",
              "      <td>4.423648</td>\n",
              "      <td>4.104377</td>\n",
              "      <td>5.002619</td>\n",
              "      <td>NaN</td>\n",
              "    </tr>\n",
              "    <tr>\n",
              "      <th>2021-06-01</th>\n",
              "      <td>9.324031</td>\n",
              "      <td>4.871436</td>\n",
              "      <td>11.264175</td>\n",
              "      <td>4.593098</td>\n",
              "      <td>15.253901</td>\n",
              "      <td>10.463916</td>\n",
              "      <td>5.780558</td>\n",
              "      <td>3.044522</td>\n",
              "      <td>1.446919</td>\n",
              "      <td>4.385584</td>\n",
              "      <td>4.471639</td>\n",
              "      <td>4.374498</td>\n",
              "      <td>4.472781</td>\n",
              "      <td>4.061425</td>\n",
              "      <td>5.002619</td>\n",
              "      <td>NaN</td>\n",
              "    </tr>\n",
              "    <tr>\n",
              "      <th>2021-07-01</th>\n",
              "      <td>9.051940</td>\n",
              "      <td>4.871436</td>\n",
              "      <td>10.940020</td>\n",
              "      <td>4.623992</td>\n",
              "      <td>14.530760</td>\n",
              "      <td>10.463916</td>\n",
              "      <td>4.920282</td>\n",
              "      <td>3.091042</td>\n",
              "      <td>1.446919</td>\n",
              "      <td>4.385584</td>\n",
              "      <td>4.523677</td>\n",
              "      <td>4.376222</td>\n",
              "      <td>4.490881</td>\n",
              "      <td>4.078130</td>\n",
              "      <td>5.002619</td>\n",
              "      <td>NaN</td>\n",
              "    </tr>\n",
              "  </tbody>\n",
              "</table>\n",
              "<p>223 rows × 16 columns</p>\n",
              "</div>"
            ],
            "text/plain": [
              "              Trucks     IBCBR  ...      FBKF      IPCA\n",
              "Date                            ...                    \n",
              "2003-01-01  8.509243  4.609959  ...  4.678240 -0.237677\n",
              "2003-02-01  8.739987  4.625071  ...  4.657594 -0.824955\n",
              "2003-03-01  8.556360  4.622617  ...  4.591490 -1.615200\n",
              "2003-04-01  8.597191  4.614625  ...  4.617898       NaN\n",
              "2003-05-01  8.637198  4.603068  ...  4.577663       NaN\n",
              "...              ...       ...  ...       ...       ...\n",
              "2021-03-01  9.224006  4.931087  ...  5.155246       NaN\n",
              "2021-04-01  9.197865  4.939569  ...  4.956780       NaN\n",
              "2021-05-01  9.373186  4.935265  ...  5.002619       NaN\n",
              "2021-06-01  9.324031  4.871436  ...  5.002619       NaN\n",
              "2021-07-01  9.051940  4.871436  ...  5.002619       NaN\n",
              "\n",
              "[223 rows x 16 columns]"
            ]
          },
          "metadata": {
            "tags": []
          },
          "execution_count": 18
        }
      ]
    },
    {
      "cell_type": "code",
      "metadata": {
        "id": "I0Bw0Nkma8bW"
      },
      "source": [
        "data.fillna(media, inplace=True)\n"
      ],
      "execution_count": null,
      "outputs": []
    },
    {
      "cell_type": "code",
      "metadata": {
        "id": "H51o1vIunVcW"
      },
      "source": [
        "data1 = data\n",
        "data = data.query('Date <\"2020-07-01\"')"
      ],
      "execution_count": null,
      "outputs": []
    },
    {
      "cell_type": "code",
      "metadata": {
        "colab": {
          "base_uri": "https://localhost:8080/",
          "height": 674
        },
        "id": "jXR4oG1LobQ3",
        "outputId": "c54a0fd4-b38f-4d52-c07e-47619605b316"
      },
      "source": [
        "data"
      ],
      "execution_count": null,
      "outputs": [
        {
          "output_type": "execute_result",
          "data": {
            "text/html": [
              "<div>\n",
              "<style scoped>\n",
              "    .dataframe tbody tr th:only-of-type {\n",
              "        vertical-align: middle;\n",
              "    }\n",
              "\n",
              "    .dataframe tbody tr th {\n",
              "        vertical-align: top;\n",
              "    }\n",
              "\n",
              "    .dataframe thead th {\n",
              "        text-align: right;\n",
              "    }\n",
              "</style>\n",
              "<table border=\"1\" class=\"dataframe\">\n",
              "  <thead>\n",
              "    <tr style=\"text-align: right;\">\n",
              "      <th></th>\n",
              "      <th>Trucks</th>\n",
              "      <th>IBCBR</th>\n",
              "      <th>Corrente de Comércio</th>\n",
              "      <th>Confiança</th>\n",
              "      <th>Credito</th>\n",
              "      <th>Consumo de Energia</th>\n",
              "      <th>IC</th>\n",
              "      <th>du</th>\n",
              "      <th>Selic</th>\n",
              "      <th>PMC</th>\n",
              "      <th>PIM</th>\n",
              "      <th>NUCI</th>\n",
              "      <th>IAE</th>\n",
              "      <th>E</th>\n",
              "      <th>FBKF</th>\n",
              "      <th>IPCA</th>\n",
              "    </tr>\n",
              "    <tr>\n",
              "      <th>Date</th>\n",
              "      <th></th>\n",
              "      <th></th>\n",
              "      <th></th>\n",
              "      <th></th>\n",
              "      <th></th>\n",
              "      <th></th>\n",
              "      <th></th>\n",
              "      <th></th>\n",
              "      <th></th>\n",
              "      <th></th>\n",
              "      <th></th>\n",
              "      <th></th>\n",
              "      <th></th>\n",
              "      <th></th>\n",
              "      <th></th>\n",
              "      <th></th>\n",
              "    </tr>\n",
              "  </thead>\n",
              "  <tbody>\n",
              "    <tr>\n",
              "      <th>2003-01-01</th>\n",
              "      <td>8.509243</td>\n",
              "      <td>4.609959</td>\n",
              "      <td>10.441442</td>\n",
              "      <td>4.582925</td>\n",
              "      <td>12.859720</td>\n",
              "      <td>10.125347</td>\n",
              "      <td>4.619566</td>\n",
              "      <td>3.091042</td>\n",
              "      <td>3.238678</td>\n",
              "      <td>3.854394</td>\n",
              "      <td>4.379524</td>\n",
              "      <td>4.389499</td>\n",
              "      <td>4.451517</td>\n",
              "      <td>4.712732</td>\n",
              "      <td>4.678240</td>\n",
              "      <td>-0.237677</td>\n",
              "    </tr>\n",
              "    <tr>\n",
              "      <th>2003-02-01</th>\n",
              "      <td>8.739987</td>\n",
              "      <td>4.625071</td>\n",
              "      <td>10.491951</td>\n",
              "      <td>4.564348</td>\n",
              "      <td>12.869585</td>\n",
              "      <td>10.129554</td>\n",
              "      <td>4.691806</td>\n",
              "      <td>2.995732</td>\n",
              "      <td>3.277145</td>\n",
              "      <td>3.871201</td>\n",
              "      <td>4.378270</td>\n",
              "      <td>4.385770</td>\n",
              "      <td>4.451517</td>\n",
              "      <td>4.741352</td>\n",
              "      <td>4.657594</td>\n",
              "      <td>-0.824955</td>\n",
              "    </tr>\n",
              "    <tr>\n",
              "      <th>2003-03-01</th>\n",
              "      <td>8.556360</td>\n",
              "      <td>4.622617</td>\n",
              "      <td>10.477057</td>\n",
              "      <td>4.533674</td>\n",
              "      <td>12.866100</td>\n",
              "      <td>10.118634</td>\n",
              "      <td>4.606969</td>\n",
              "      <td>2.995732</td>\n",
              "      <td>3.277145</td>\n",
              "      <td>3.841601</td>\n",
              "      <td>4.379524</td>\n",
              "      <td>4.383276</td>\n",
              "      <td>4.451517</td>\n",
              "      <td>4.692457</td>\n",
              "      <td>4.591490</td>\n",
              "      <td>-1.615200</td>\n",
              "    </tr>\n",
              "    <tr>\n",
              "      <th>2003-04-01</th>\n",
              "      <td>8.597191</td>\n",
              "      <td>4.614625</td>\n",
              "      <td>10.442930</td>\n",
              "      <td>4.511958</td>\n",
              "      <td>12.856592</td>\n",
              "      <td>10.106928</td>\n",
              "      <td>4.509100</td>\n",
              "      <td>2.995732</td>\n",
              "      <td>3.277145</td>\n",
              "      <td>3.841601</td>\n",
              "      <td>4.375757</td>\n",
              "      <td>4.380776</td>\n",
              "      <td>4.451517</td>\n",
              "      <td>4.571820</td>\n",
              "      <td>4.617898</td>\n",
              "      <td>0.469910</td>\n",
              "    </tr>\n",
              "    <tr>\n",
              "      <th>2003-05-01</th>\n",
              "      <td>8.637198</td>\n",
              "      <td>4.603068</td>\n",
              "      <td>10.545558</td>\n",
              "      <td>4.487512</td>\n",
              "      <td>12.864370</td>\n",
              "      <td>10.127985</td>\n",
              "      <td>4.469694</td>\n",
              "      <td>3.044522</td>\n",
              "      <td>3.277145</td>\n",
              "      <td>3.835142</td>\n",
              "      <td>4.354141</td>\n",
              "      <td>4.371976</td>\n",
              "      <td>4.451517</td>\n",
              "      <td>4.527252</td>\n",
              "      <td>4.577663</td>\n",
              "      <td>0.469910</td>\n",
              "    </tr>\n",
              "    <tr>\n",
              "      <th>...</th>\n",
              "      <td>...</td>\n",
              "      <td>...</td>\n",
              "      <td>...</td>\n",
              "      <td>...</td>\n",
              "      <td>...</td>\n",
              "      <td>...</td>\n",
              "      <td>...</td>\n",
              "      <td>...</td>\n",
              "      <td>...</td>\n",
              "      <td>...</td>\n",
              "      <td>...</td>\n",
              "      <td>...</td>\n",
              "      <td>...</td>\n",
              "      <td>...</td>\n",
              "      <td>...</td>\n",
              "      <td>...</td>\n",
              "    </tr>\n",
              "    <tr>\n",
              "      <th>2020-02-01</th>\n",
              "      <td>8.995845</td>\n",
              "      <td>4.937634</td>\n",
              "      <td>11.126971</td>\n",
              "      <td>4.562263</td>\n",
              "      <td>15.064247</td>\n",
              "      <td>10.603567</td>\n",
              "      <td>5.330881</td>\n",
              "      <td>2.944439</td>\n",
              "      <td>1.446919</td>\n",
              "      <td>4.581902</td>\n",
              "      <td>4.471639</td>\n",
              "      <td>4.333361</td>\n",
              "      <td>4.521789</td>\n",
              "      <td>4.295093</td>\n",
              "      <td>5.045572</td>\n",
              "      <td>0.469910</td>\n",
              "    </tr>\n",
              "    <tr>\n",
              "      <th>2020-03-01</th>\n",
              "      <td>8.748371</td>\n",
              "      <td>4.888091</td>\n",
              "      <td>11.132401</td>\n",
              "      <td>4.495355</td>\n",
              "      <td>15.092273</td>\n",
              "      <td>10.588733</td>\n",
              "      <td>5.286852</td>\n",
              "      <td>3.091042</td>\n",
              "      <td>1.321756</td>\n",
              "      <td>4.555980</td>\n",
              "      <td>4.390739</td>\n",
              "      <td>4.321480</td>\n",
              "      <td>4.414010</td>\n",
              "      <td>4.384237</td>\n",
              "      <td>4.933738</td>\n",
              "      <td>0.469910</td>\n",
              "    </tr>\n",
              "    <tr>\n",
              "      <th>2020-04-01</th>\n",
              "      <td>8.291232</td>\n",
              "      <td>4.788241</td>\n",
              "      <td>11.176682</td>\n",
              "      <td>4.014580</td>\n",
              "      <td>15.092275</td>\n",
              "      <td>10.509029</td>\n",
              "      <td>5.302359</td>\n",
              "      <td>2.995732</td>\n",
              "      <td>1.321756</td>\n",
              "      <td>4.375757</td>\n",
              "      <td>4.178992</td>\n",
              "      <td>4.048301</td>\n",
              "      <td>3.681351</td>\n",
              "      <td>4.424212</td>\n",
              "      <td>4.626381</td>\n",
              "      <td>0.469910</td>\n",
              "    </tr>\n",
              "    <tr>\n",
              "      <th>2020-05-01</th>\n",
              "      <td>8.503330</td>\n",
              "      <td>4.804595</td>\n",
              "      <td>11.161287</td>\n",
              "      <td>4.133565</td>\n",
              "      <td>15.095699</td>\n",
              "      <td>10.503881</td>\n",
              "      <td>5.418409</td>\n",
              "      <td>2.995732</td>\n",
              "      <td>1.098612</td>\n",
              "      <td>4.468204</td>\n",
              "      <td>4.255613</td>\n",
              "      <td>4.099332</td>\n",
              "      <td>3.754199</td>\n",
              "      <td>4.499432</td>\n",
              "      <td>4.987479</td>\n",
              "      <td>0.469910</td>\n",
              "    </tr>\n",
              "    <tr>\n",
              "      <th>2020-06-01</th>\n",
              "      <td>9.084983</td>\n",
              "      <td>4.853904</td>\n",
              "      <td>11.155528</td>\n",
              "      <td>4.334673</td>\n",
              "      <td>15.103051</td>\n",
              "      <td>10.517553</td>\n",
              "      <td>5.368636</td>\n",
              "      <td>3.044522</td>\n",
              "      <td>0.810930</td>\n",
              "      <td>4.557030</td>\n",
              "      <td>4.348987</td>\n",
              "      <td>4.198705</td>\n",
              "      <td>4.037774</td>\n",
              "      <td>4.394684</td>\n",
              "      <td>4.919607</td>\n",
              "      <td>0.469910</td>\n",
              "    </tr>\n",
              "  </tbody>\n",
              "</table>\n",
              "<p>210 rows × 16 columns</p>\n",
              "</div>"
            ],
            "text/plain": [
              "              Trucks     IBCBR  ...      FBKF      IPCA\n",
              "Date                            ...                    \n",
              "2003-01-01  8.509243  4.609959  ...  4.678240 -0.237677\n",
              "2003-02-01  8.739987  4.625071  ...  4.657594 -0.824955\n",
              "2003-03-01  8.556360  4.622617  ...  4.591490 -1.615200\n",
              "2003-04-01  8.597191  4.614625  ...  4.617898  0.469910\n",
              "2003-05-01  8.637198  4.603068  ...  4.577663  0.469910\n",
              "...              ...       ...  ...       ...       ...\n",
              "2020-02-01  8.995845  4.937634  ...  5.045572  0.469910\n",
              "2020-03-01  8.748371  4.888091  ...  4.933738  0.469910\n",
              "2020-04-01  8.291232  4.788241  ...  4.626381  0.469910\n",
              "2020-05-01  8.503330  4.804595  ...  4.987479  0.469910\n",
              "2020-06-01  9.084983  4.853904  ...  4.919607  0.469910\n",
              "\n",
              "[210 rows x 16 columns]"
            ]
          },
          "metadata": {
            "tags": []
          },
          "execution_count": 21
        }
      ]
    },
    {
      "cell_type": "markdown",
      "metadata": {
        "id": "rqVW4ke8FTPb"
      },
      "source": [
        "#ARIMAX "
      ]
    },
    {
      "cell_type": "markdown",
      "metadata": {
        "id": "nedP5Vyyo4ts"
      },
      "source": [
        "##Preparando os dados"
      ]
    },
    {
      "cell_type": "code",
      "metadata": {
        "colab": {
          "base_uri": "https://localhost:8080/"
        },
        "id": "VfDyTjV0kM0m",
        "outputId": "471695d4-8fa6-4968-d98c-50ba1048e523"
      },
      "source": [
        "y = data['Trucks']\n",
        "y\n"
      ],
      "execution_count": null,
      "outputs": [
        {
          "output_type": "execute_result",
          "data": {
            "text/plain": [
              "Date\n",
              "2003-01-01    8.509243\n",
              "2003-02-01    8.739987\n",
              "2003-03-01    8.556360\n",
              "2003-04-01    8.597191\n",
              "2003-05-01    8.637198\n",
              "                ...   \n",
              "2020-02-01    8.995845\n",
              "2020-03-01    8.748371\n",
              "2020-04-01    8.291232\n",
              "2020-05-01    8.503330\n",
              "2020-06-01    9.084983\n",
              "Name: Trucks, Length: 210, dtype: float64"
            ]
          },
          "metadata": {
            "tags": []
          },
          "execution_count": 22
        }
      ]
    },
    {
      "cell_type": "code",
      "metadata": {
        "colab": {
          "base_uri": "https://localhost:8080/"
        },
        "id": "OTHK-yrVk3wh",
        "outputId": "174db0a0-3cba-47d3-93e1-bbc04fa3ef03"
      },
      "source": [
        "import itertools\n",
        "p = d = q = range(0,2)\n",
        "pdq = list(itertools.product(p,d,q))\n",
        "pdq"
      ],
      "execution_count": null,
      "outputs": [
        {
          "output_type": "execute_result",
          "data": {
            "text/plain": [
              "[(0, 0, 0),\n",
              " (0, 0, 1),\n",
              " (0, 1, 0),\n",
              " (0, 1, 1),\n",
              " (1, 0, 0),\n",
              " (1, 0, 1),\n",
              " (1, 1, 0),\n",
              " (1, 1, 1)]"
            ]
          },
          "metadata": {
            "tags": []
          },
          "execution_count": 23
        }
      ]
    },
    {
      "cell_type": "code",
      "metadata": {
        "colab": {
          "base_uri": "https://localhost:8080/"
        },
        "id": "2d-IHvPxk6dD",
        "outputId": "fb2ccb25-a4be-4aa5-9582-2cdcfa045c98"
      },
      "source": [
        "seasonal_pdq = [(x[0], x[1], x[2], 12) for x in list(itertools.product(p,d,q))]\n",
        "seasonal_pdq"
      ],
      "execution_count": null,
      "outputs": [
        {
          "output_type": "execute_result",
          "data": {
            "text/plain": [
              "[(0, 0, 0, 12),\n",
              " (0, 0, 1, 12),\n",
              " (0, 1, 0, 12),\n",
              " (0, 1, 1, 12),\n",
              " (1, 0, 0, 12),\n",
              " (1, 0, 1, 12),\n",
              " (1, 1, 0, 12),\n",
              " (1, 1, 1, 12)]"
            ]
          },
          "metadata": {
            "tags": []
          },
          "execution_count": 24
        }
      ]
    },
    {
      "cell_type": "code",
      "metadata": {
        "colab": {
          "base_uri": "https://localhost:8080/"
        },
        "id": "dBX5m4kVk_cP",
        "outputId": "5cd5c1b0-4eba-47b0-a036-9ae2b1b4caae"
      },
      "source": [
        "exog = data['IBCBR']\n",
        "import statsmodels.api as sm\n",
        "aic_list = []\n",
        "for param in pdq:\n",
        "    for param_seasonal in seasonal_pdq:\n",
        "        mod = sm.tsa.statespace.SARIMAX(y,\n",
        "                                       order=param,\n",
        "                                       seasonal_order=param_seasonal, exog = exog)\n",
        "        results = mod.fit()\n",
        "        aic_list.append('ARIMA{}x{} - AIC{} - P.VALOR {}'.format(param, param_seasonal, results.aic, results.pvalues))"
      ],
      "execution_count": null,
      "outputs": [
        {
          "output_type": "stream",
          "text": [
            "/usr/local/lib/python3.7/dist-packages/statsmodels/tsa/base/tsa_model.py:537: ValueWarning: No frequency information was provided, so inferred frequency MS will be used.\n",
            "  % freq, ValueWarning)\n",
            "/usr/local/lib/python3.7/dist-packages/statsmodels/tsa/base/tsa_model.py:537: ValueWarning: No frequency information was provided, so inferred frequency MS will be used.\n",
            "  % freq, ValueWarning)\n",
            "/usr/local/lib/python3.7/dist-packages/statsmodels/tsa/base/tsa_model.py:537: ValueWarning: No frequency information was provided, so inferred frequency MS will be used.\n",
            "  % freq, ValueWarning)\n",
            "/usr/local/lib/python3.7/dist-packages/statsmodels/tsa/base/tsa_model.py:537: ValueWarning: No frequency information was provided, so inferred frequency MS will be used.\n",
            "  % freq, ValueWarning)\n",
            "/usr/local/lib/python3.7/dist-packages/statsmodels/tsa/base/tsa_model.py:537: ValueWarning: No frequency information was provided, so inferred frequency MS will be used.\n",
            "  % freq, ValueWarning)\n",
            "/usr/local/lib/python3.7/dist-packages/statsmodels/tsa/base/tsa_model.py:537: ValueWarning: No frequency information was provided, so inferred frequency MS will be used.\n",
            "  % freq, ValueWarning)\n",
            "/usr/local/lib/python3.7/dist-packages/statsmodels/tsa/base/tsa_model.py:537: ValueWarning: No frequency information was provided, so inferred frequency MS will be used.\n",
            "  % freq, ValueWarning)\n",
            "/usr/local/lib/python3.7/dist-packages/statsmodels/tsa/base/tsa_model.py:537: ValueWarning: No frequency information was provided, so inferred frequency MS will be used.\n",
            "  % freq, ValueWarning)\n",
            "/usr/local/lib/python3.7/dist-packages/statsmodels/tsa/base/tsa_model.py:537: ValueWarning: No frequency information was provided, so inferred frequency MS will be used.\n",
            "  % freq, ValueWarning)\n",
            "/usr/local/lib/python3.7/dist-packages/statsmodels/tsa/base/tsa_model.py:537: ValueWarning: No frequency information was provided, so inferred frequency MS will be used.\n",
            "  % freq, ValueWarning)\n",
            "/usr/local/lib/python3.7/dist-packages/statsmodels/tsa/base/tsa_model.py:537: ValueWarning: No frequency information was provided, so inferred frequency MS will be used.\n",
            "  % freq, ValueWarning)\n",
            "/usr/local/lib/python3.7/dist-packages/statsmodels/tsa/base/tsa_model.py:537: ValueWarning: No frequency information was provided, so inferred frequency MS will be used.\n",
            "  % freq, ValueWarning)\n",
            "/usr/local/lib/python3.7/dist-packages/statsmodels/tsa/base/tsa_model.py:537: ValueWarning: No frequency information was provided, so inferred frequency MS will be used.\n",
            "  % freq, ValueWarning)\n",
            "/usr/local/lib/python3.7/dist-packages/statsmodels/tsa/base/tsa_model.py:537: ValueWarning: No frequency information was provided, so inferred frequency MS will be used.\n",
            "  % freq, ValueWarning)\n",
            "/usr/local/lib/python3.7/dist-packages/statsmodels/tsa/base/tsa_model.py:537: ValueWarning: No frequency information was provided, so inferred frequency MS will be used.\n",
            "  % freq, ValueWarning)\n",
            "/usr/local/lib/python3.7/dist-packages/statsmodels/tsa/base/tsa_model.py:537: ValueWarning: No frequency information was provided, so inferred frequency MS will be used.\n",
            "  % freq, ValueWarning)\n",
            "/usr/local/lib/python3.7/dist-packages/statsmodels/tsa/base/tsa_model.py:537: ValueWarning: No frequency information was provided, so inferred frequency MS will be used.\n",
            "  % freq, ValueWarning)\n",
            "/usr/local/lib/python3.7/dist-packages/statsmodels/tsa/base/tsa_model.py:537: ValueWarning: No frequency information was provided, so inferred frequency MS will be used.\n",
            "  % freq, ValueWarning)\n",
            "/usr/local/lib/python3.7/dist-packages/statsmodels/tsa/base/tsa_model.py:537: ValueWarning: No frequency information was provided, so inferred frequency MS will be used.\n",
            "  % freq, ValueWarning)\n",
            "/usr/local/lib/python3.7/dist-packages/statsmodels/tsa/base/tsa_model.py:537: ValueWarning: No frequency information was provided, so inferred frequency MS will be used.\n",
            "  % freq, ValueWarning)\n",
            "/usr/local/lib/python3.7/dist-packages/statsmodels/tsa/base/tsa_model.py:537: ValueWarning: No frequency information was provided, so inferred frequency MS will be used.\n",
            "  % freq, ValueWarning)\n",
            "/usr/local/lib/python3.7/dist-packages/statsmodels/tsa/base/tsa_model.py:537: ValueWarning: No frequency information was provided, so inferred frequency MS will be used.\n",
            "  % freq, ValueWarning)\n",
            "/usr/local/lib/python3.7/dist-packages/statsmodels/tsa/base/tsa_model.py:537: ValueWarning: No frequency information was provided, so inferred frequency MS will be used.\n",
            "  % freq, ValueWarning)\n",
            "/usr/local/lib/python3.7/dist-packages/statsmodels/tsa/base/tsa_model.py:537: ValueWarning: No frequency information was provided, so inferred frequency MS will be used.\n",
            "  % freq, ValueWarning)\n",
            "/usr/local/lib/python3.7/dist-packages/statsmodels/tsa/base/tsa_model.py:537: ValueWarning: No frequency information was provided, so inferred frequency MS will be used.\n",
            "  % freq, ValueWarning)\n",
            "/usr/local/lib/python3.7/dist-packages/statsmodels/tsa/base/tsa_model.py:537: ValueWarning: No frequency information was provided, so inferred frequency MS will be used.\n",
            "  % freq, ValueWarning)\n",
            "/usr/local/lib/python3.7/dist-packages/statsmodels/tsa/base/tsa_model.py:537: ValueWarning: No frequency information was provided, so inferred frequency MS will be used.\n",
            "  % freq, ValueWarning)\n",
            "/usr/local/lib/python3.7/dist-packages/statsmodels/tsa/base/tsa_model.py:537: ValueWarning: No frequency information was provided, so inferred frequency MS will be used.\n",
            "  % freq, ValueWarning)\n",
            "/usr/local/lib/python3.7/dist-packages/statsmodels/tsa/base/tsa_model.py:537: ValueWarning: No frequency information was provided, so inferred frequency MS will be used.\n",
            "  % freq, ValueWarning)\n",
            "/usr/local/lib/python3.7/dist-packages/statsmodels/tsa/base/tsa_model.py:537: ValueWarning: No frequency information was provided, so inferred frequency MS will be used.\n",
            "  % freq, ValueWarning)\n",
            "/usr/local/lib/python3.7/dist-packages/statsmodels/tsa/base/tsa_model.py:537: ValueWarning: No frequency information was provided, so inferred frequency MS will be used.\n",
            "  % freq, ValueWarning)\n",
            "/usr/local/lib/python3.7/dist-packages/statsmodels/tsa/base/tsa_model.py:537: ValueWarning: No frequency information was provided, so inferred frequency MS will be used.\n",
            "  % freq, ValueWarning)\n",
            "/usr/local/lib/python3.7/dist-packages/statsmodels/tsa/base/tsa_model.py:537: ValueWarning: No frequency information was provided, so inferred frequency MS will be used.\n",
            "  % freq, ValueWarning)\n",
            "/usr/local/lib/python3.7/dist-packages/statsmodels/tsa/base/tsa_model.py:537: ValueWarning: No frequency information was provided, so inferred frequency MS will be used.\n",
            "  % freq, ValueWarning)\n",
            "/usr/local/lib/python3.7/dist-packages/statsmodels/tsa/base/tsa_model.py:537: ValueWarning: No frequency information was provided, so inferred frequency MS will be used.\n",
            "  % freq, ValueWarning)\n",
            "/usr/local/lib/python3.7/dist-packages/statsmodels/tsa/base/tsa_model.py:537: ValueWarning: No frequency information was provided, so inferred frequency MS will be used.\n",
            "  % freq, ValueWarning)\n",
            "/usr/local/lib/python3.7/dist-packages/statsmodels/tsa/base/tsa_model.py:537: ValueWarning: No frequency information was provided, so inferred frequency MS will be used.\n",
            "  % freq, ValueWarning)\n",
            "/usr/local/lib/python3.7/dist-packages/statsmodels/tsa/base/tsa_model.py:537: ValueWarning: No frequency information was provided, so inferred frequency MS will be used.\n",
            "  % freq, ValueWarning)\n",
            "/usr/local/lib/python3.7/dist-packages/statsmodels/tsa/base/tsa_model.py:537: ValueWarning: No frequency information was provided, so inferred frequency MS will be used.\n",
            "  % freq, ValueWarning)\n",
            "/usr/local/lib/python3.7/dist-packages/statsmodels/tsa/base/tsa_model.py:537: ValueWarning: No frequency information was provided, so inferred frequency MS will be used.\n",
            "  % freq, ValueWarning)\n",
            "/usr/local/lib/python3.7/dist-packages/statsmodels/tsa/base/tsa_model.py:537: ValueWarning: No frequency information was provided, so inferred frequency MS will be used.\n",
            "  % freq, ValueWarning)\n",
            "/usr/local/lib/python3.7/dist-packages/statsmodels/tsa/base/tsa_model.py:537: ValueWarning: No frequency information was provided, so inferred frequency MS will be used.\n",
            "  % freq, ValueWarning)\n",
            "/usr/local/lib/python3.7/dist-packages/statsmodels/tsa/base/tsa_model.py:537: ValueWarning: No frequency information was provided, so inferred frequency MS will be used.\n",
            "  % freq, ValueWarning)\n",
            "/usr/local/lib/python3.7/dist-packages/statsmodels/tsa/base/tsa_model.py:537: ValueWarning: No frequency information was provided, so inferred frequency MS will be used.\n",
            "  % freq, ValueWarning)\n",
            "/usr/local/lib/python3.7/dist-packages/statsmodels/tsa/base/tsa_model.py:537: ValueWarning: No frequency information was provided, so inferred frequency MS will be used.\n",
            "  % freq, ValueWarning)\n",
            "/usr/local/lib/python3.7/dist-packages/statsmodels/tsa/base/tsa_model.py:537: ValueWarning: No frequency information was provided, so inferred frequency MS will be used.\n",
            "  % freq, ValueWarning)\n",
            "/usr/local/lib/python3.7/dist-packages/statsmodels/tsa/base/tsa_model.py:537: ValueWarning: No frequency information was provided, so inferred frequency MS will be used.\n",
            "  % freq, ValueWarning)\n",
            "/usr/local/lib/python3.7/dist-packages/statsmodels/tsa/base/tsa_model.py:537: ValueWarning: No frequency information was provided, so inferred frequency MS will be used.\n",
            "  % freq, ValueWarning)\n",
            "/usr/local/lib/python3.7/dist-packages/statsmodels/tsa/base/tsa_model.py:537: ValueWarning: No frequency information was provided, so inferred frequency MS will be used.\n",
            "  % freq, ValueWarning)\n",
            "/usr/local/lib/python3.7/dist-packages/statsmodels/tsa/base/tsa_model.py:537: ValueWarning: No frequency information was provided, so inferred frequency MS will be used.\n",
            "  % freq, ValueWarning)\n",
            "/usr/local/lib/python3.7/dist-packages/statsmodels/tsa/base/tsa_model.py:537: ValueWarning: No frequency information was provided, so inferred frequency MS will be used.\n",
            "  % freq, ValueWarning)\n",
            "/usr/local/lib/python3.7/dist-packages/statsmodels/tsa/base/tsa_model.py:537: ValueWarning: No frequency information was provided, so inferred frequency MS will be used.\n",
            "  % freq, ValueWarning)\n",
            "/usr/local/lib/python3.7/dist-packages/statsmodels/tsa/base/tsa_model.py:537: ValueWarning: No frequency information was provided, so inferred frequency MS will be used.\n",
            "  % freq, ValueWarning)\n",
            "/usr/local/lib/python3.7/dist-packages/statsmodels/tsa/base/tsa_model.py:537: ValueWarning: No frequency information was provided, so inferred frequency MS will be used.\n",
            "  % freq, ValueWarning)\n",
            "/usr/local/lib/python3.7/dist-packages/statsmodels/tsa/base/tsa_model.py:537: ValueWarning: No frequency information was provided, so inferred frequency MS will be used.\n",
            "  % freq, ValueWarning)\n",
            "/usr/local/lib/python3.7/dist-packages/statsmodels/tsa/base/tsa_model.py:537: ValueWarning: No frequency information was provided, so inferred frequency MS will be used.\n",
            "  % freq, ValueWarning)\n",
            "/usr/local/lib/python3.7/dist-packages/statsmodels/tsa/base/tsa_model.py:537: ValueWarning: No frequency information was provided, so inferred frequency MS will be used.\n",
            "  % freq, ValueWarning)\n",
            "/usr/local/lib/python3.7/dist-packages/statsmodels/tsa/base/tsa_model.py:537: ValueWarning: No frequency information was provided, so inferred frequency MS will be used.\n",
            "  % freq, ValueWarning)\n",
            "/usr/local/lib/python3.7/dist-packages/statsmodels/tsa/base/tsa_model.py:537: ValueWarning: No frequency information was provided, so inferred frequency MS will be used.\n",
            "  % freq, ValueWarning)\n",
            "/usr/local/lib/python3.7/dist-packages/statsmodels/tsa/base/tsa_model.py:537: ValueWarning: No frequency information was provided, so inferred frequency MS will be used.\n",
            "  % freq, ValueWarning)\n",
            "/usr/local/lib/python3.7/dist-packages/statsmodels/tsa/base/tsa_model.py:537: ValueWarning: No frequency information was provided, so inferred frequency MS will be used.\n",
            "  % freq, ValueWarning)\n",
            "/usr/local/lib/python3.7/dist-packages/statsmodels/tsa/base/tsa_model.py:537: ValueWarning: No frequency information was provided, so inferred frequency MS will be used.\n",
            "  % freq, ValueWarning)\n",
            "/usr/local/lib/python3.7/dist-packages/statsmodels/tsa/base/tsa_model.py:537: ValueWarning: No frequency information was provided, so inferred frequency MS will be used.\n",
            "  % freq, ValueWarning)\n",
            "/usr/local/lib/python3.7/dist-packages/statsmodels/tsa/base/tsa_model.py:537: ValueWarning: No frequency information was provided, so inferred frequency MS will be used.\n",
            "  % freq, ValueWarning)\n",
            "/usr/local/lib/python3.7/dist-packages/statsmodels/tsa/base/tsa_model.py:537: ValueWarning: No frequency information was provided, so inferred frequency MS will be used.\n",
            "  % freq, ValueWarning)\n",
            "/usr/local/lib/python3.7/dist-packages/statsmodels/tsa/base/tsa_model.py:537: ValueWarning: No frequency information was provided, so inferred frequency MS will be used.\n",
            "  % freq, ValueWarning)\n",
            "/usr/local/lib/python3.7/dist-packages/statsmodels/tsa/base/tsa_model.py:537: ValueWarning: No frequency information was provided, so inferred frequency MS will be used.\n",
            "  % freq, ValueWarning)\n",
            "/usr/local/lib/python3.7/dist-packages/statsmodels/tsa/base/tsa_model.py:537: ValueWarning: No frequency information was provided, so inferred frequency MS will be used.\n",
            "  % freq, ValueWarning)\n",
            "/usr/local/lib/python3.7/dist-packages/statsmodels/tsa/base/tsa_model.py:537: ValueWarning: No frequency information was provided, so inferred frequency MS will be used.\n",
            "  % freq, ValueWarning)\n",
            "/usr/local/lib/python3.7/dist-packages/statsmodels/tsa/base/tsa_model.py:537: ValueWarning: No frequency information was provided, so inferred frequency MS will be used.\n",
            "  % freq, ValueWarning)\n",
            "/usr/local/lib/python3.7/dist-packages/statsmodels/tsa/base/tsa_model.py:537: ValueWarning: No frequency information was provided, so inferred frequency MS will be used.\n",
            "  % freq, ValueWarning)\n",
            "/usr/local/lib/python3.7/dist-packages/statsmodels/tsa/base/tsa_model.py:537: ValueWarning: No frequency information was provided, so inferred frequency MS will be used.\n",
            "  % freq, ValueWarning)\n",
            "/usr/local/lib/python3.7/dist-packages/statsmodels/tsa/base/tsa_model.py:537: ValueWarning: No frequency information was provided, so inferred frequency MS will be used.\n",
            "  % freq, ValueWarning)\n",
            "/usr/local/lib/python3.7/dist-packages/statsmodels/tsa/base/tsa_model.py:537: ValueWarning: No frequency information was provided, so inferred frequency MS will be used.\n",
            "  % freq, ValueWarning)\n",
            "/usr/local/lib/python3.7/dist-packages/statsmodels/tsa/base/tsa_model.py:537: ValueWarning: No frequency information was provided, so inferred frequency MS will be used.\n",
            "  % freq, ValueWarning)\n",
            "/usr/local/lib/python3.7/dist-packages/statsmodels/tsa/base/tsa_model.py:537: ValueWarning: No frequency information was provided, so inferred frequency MS will be used.\n",
            "  % freq, ValueWarning)\n",
            "/usr/local/lib/python3.7/dist-packages/statsmodels/base/model.py:584: ConvergenceWarning: Maximum Likelihood optimization failed to converge. Check mle_retvals\n",
            "  ConvergenceWarning)\n",
            "/usr/local/lib/python3.7/dist-packages/statsmodels/tsa/base/tsa_model.py:537: ValueWarning: No frequency information was provided, so inferred frequency MS will be used.\n",
            "  % freq, ValueWarning)\n",
            "/usr/local/lib/python3.7/dist-packages/statsmodels/tsa/base/tsa_model.py:537: ValueWarning: No frequency information was provided, so inferred frequency MS will be used.\n",
            "  % freq, ValueWarning)\n",
            "/usr/local/lib/python3.7/dist-packages/statsmodels/tsa/base/tsa_model.py:537: ValueWarning: No frequency information was provided, so inferred frequency MS will be used.\n",
            "  % freq, ValueWarning)\n",
            "/usr/local/lib/python3.7/dist-packages/statsmodels/tsa/base/tsa_model.py:537: ValueWarning: No frequency information was provided, so inferred frequency MS will be used.\n",
            "  % freq, ValueWarning)\n",
            "/usr/local/lib/python3.7/dist-packages/statsmodels/tsa/base/tsa_model.py:537: ValueWarning: No frequency information was provided, so inferred frequency MS will be used.\n",
            "  % freq, ValueWarning)\n",
            "/usr/local/lib/python3.7/dist-packages/statsmodels/tsa/base/tsa_model.py:537: ValueWarning: No frequency information was provided, so inferred frequency MS will be used.\n",
            "  % freq, ValueWarning)\n",
            "/usr/local/lib/python3.7/dist-packages/statsmodels/tsa/base/tsa_model.py:537: ValueWarning: No frequency information was provided, so inferred frequency MS will be used.\n",
            "  % freq, ValueWarning)\n",
            "/usr/local/lib/python3.7/dist-packages/statsmodels/tsa/base/tsa_model.py:537: ValueWarning: No frequency information was provided, so inferred frequency MS will be used.\n",
            "  % freq, ValueWarning)\n",
            "/usr/local/lib/python3.7/dist-packages/statsmodels/tsa/base/tsa_model.py:537: ValueWarning: No frequency information was provided, so inferred frequency MS will be used.\n",
            "  % freq, ValueWarning)\n",
            "/usr/local/lib/python3.7/dist-packages/statsmodels/tsa/base/tsa_model.py:537: ValueWarning: No frequency information was provided, so inferred frequency MS will be used.\n",
            "  % freq, ValueWarning)\n",
            "/usr/local/lib/python3.7/dist-packages/statsmodels/tsa/base/tsa_model.py:537: ValueWarning: No frequency information was provided, so inferred frequency MS will be used.\n",
            "  % freq, ValueWarning)\n",
            "/usr/local/lib/python3.7/dist-packages/statsmodels/tsa/base/tsa_model.py:537: ValueWarning: No frequency information was provided, so inferred frequency MS will be used.\n",
            "  % freq, ValueWarning)\n",
            "/usr/local/lib/python3.7/dist-packages/statsmodels/tsa/base/tsa_model.py:537: ValueWarning: No frequency information was provided, so inferred frequency MS will be used.\n",
            "  % freq, ValueWarning)\n",
            "/usr/local/lib/python3.7/dist-packages/statsmodels/tsa/base/tsa_model.py:537: ValueWarning: No frequency information was provided, so inferred frequency MS will be used.\n",
            "  % freq, ValueWarning)\n",
            "/usr/local/lib/python3.7/dist-packages/statsmodels/tsa/base/tsa_model.py:537: ValueWarning: No frequency information was provided, so inferred frequency MS will be used.\n",
            "  % freq, ValueWarning)\n",
            "/usr/local/lib/python3.7/dist-packages/statsmodels/tsa/base/tsa_model.py:537: ValueWarning: No frequency information was provided, so inferred frequency MS will be used.\n",
            "  % freq, ValueWarning)\n",
            "/usr/local/lib/python3.7/dist-packages/statsmodels/base/model.py:584: ConvergenceWarning: Maximum Likelihood optimization failed to converge. Check mle_retvals\n",
            "  ConvergenceWarning)\n",
            "/usr/local/lib/python3.7/dist-packages/statsmodels/tsa/base/tsa_model.py:537: ValueWarning: No frequency information was provided, so inferred frequency MS will be used.\n",
            "  % freq, ValueWarning)\n",
            "/usr/local/lib/python3.7/dist-packages/statsmodels/tsa/base/tsa_model.py:537: ValueWarning: No frequency information was provided, so inferred frequency MS will be used.\n",
            "  % freq, ValueWarning)\n",
            "/usr/local/lib/python3.7/dist-packages/statsmodels/tsa/base/tsa_model.py:537: ValueWarning: No frequency information was provided, so inferred frequency MS will be used.\n",
            "  % freq, ValueWarning)\n",
            "/usr/local/lib/python3.7/dist-packages/statsmodels/tsa/base/tsa_model.py:537: ValueWarning: No frequency information was provided, so inferred frequency MS will be used.\n",
            "  % freq, ValueWarning)\n",
            "/usr/local/lib/python3.7/dist-packages/statsmodels/tsa/base/tsa_model.py:537: ValueWarning: No frequency information was provided, so inferred frequency MS will be used.\n",
            "  % freq, ValueWarning)\n",
            "/usr/local/lib/python3.7/dist-packages/statsmodels/tsa/base/tsa_model.py:537: ValueWarning: No frequency information was provided, so inferred frequency MS will be used.\n",
            "  % freq, ValueWarning)\n",
            "/usr/local/lib/python3.7/dist-packages/statsmodels/tsa/base/tsa_model.py:537: ValueWarning: No frequency information was provided, so inferred frequency MS will be used.\n",
            "  % freq, ValueWarning)\n",
            "/usr/local/lib/python3.7/dist-packages/statsmodels/tsa/base/tsa_model.py:537: ValueWarning: No frequency information was provided, so inferred frequency MS will be used.\n",
            "  % freq, ValueWarning)\n",
            "/usr/local/lib/python3.7/dist-packages/statsmodels/tsa/base/tsa_model.py:537: ValueWarning: No frequency information was provided, so inferred frequency MS will be used.\n",
            "  % freq, ValueWarning)\n",
            "/usr/local/lib/python3.7/dist-packages/statsmodels/tsa/base/tsa_model.py:537: ValueWarning: No frequency information was provided, so inferred frequency MS will be used.\n",
            "  % freq, ValueWarning)\n",
            "/usr/local/lib/python3.7/dist-packages/statsmodels/tsa/base/tsa_model.py:537: ValueWarning: No frequency information was provided, so inferred frequency MS will be used.\n",
            "  % freq, ValueWarning)\n",
            "/usr/local/lib/python3.7/dist-packages/statsmodels/tsa/base/tsa_model.py:537: ValueWarning: No frequency information was provided, so inferred frequency MS will be used.\n",
            "  % freq, ValueWarning)\n",
            "/usr/local/lib/python3.7/dist-packages/statsmodels/tsa/base/tsa_model.py:537: ValueWarning: No frequency information was provided, so inferred frequency MS will be used.\n",
            "  % freq, ValueWarning)\n",
            "/usr/local/lib/python3.7/dist-packages/statsmodels/tsa/base/tsa_model.py:537: ValueWarning: No frequency information was provided, so inferred frequency MS will be used.\n",
            "  % freq, ValueWarning)\n",
            "/usr/local/lib/python3.7/dist-packages/statsmodels/tsa/base/tsa_model.py:537: ValueWarning: No frequency information was provided, so inferred frequency MS will be used.\n",
            "  % freq, ValueWarning)\n",
            "/usr/local/lib/python3.7/dist-packages/statsmodels/tsa/base/tsa_model.py:537: ValueWarning: No frequency information was provided, so inferred frequency MS will be used.\n",
            "  % freq, ValueWarning)\n",
            "/usr/local/lib/python3.7/dist-packages/statsmodels/tsa/base/tsa_model.py:537: ValueWarning: No frequency information was provided, so inferred frequency MS will be used.\n",
            "  % freq, ValueWarning)\n",
            "/usr/local/lib/python3.7/dist-packages/statsmodels/tsa/base/tsa_model.py:537: ValueWarning: No frequency information was provided, so inferred frequency MS will be used.\n",
            "  % freq, ValueWarning)\n",
            "/usr/local/lib/python3.7/dist-packages/statsmodels/tsa/base/tsa_model.py:537: ValueWarning: No frequency information was provided, so inferred frequency MS will be used.\n",
            "  % freq, ValueWarning)\n",
            "/usr/local/lib/python3.7/dist-packages/statsmodels/tsa/base/tsa_model.py:537: ValueWarning: No frequency information was provided, so inferred frequency MS will be used.\n",
            "  % freq, ValueWarning)\n",
            "/usr/local/lib/python3.7/dist-packages/statsmodels/tsa/base/tsa_model.py:537: ValueWarning: No frequency information was provided, so inferred frequency MS will be used.\n",
            "  % freq, ValueWarning)\n",
            "/usr/local/lib/python3.7/dist-packages/statsmodels/tsa/base/tsa_model.py:537: ValueWarning: No frequency information was provided, so inferred frequency MS will be used.\n",
            "  % freq, ValueWarning)\n",
            "/usr/local/lib/python3.7/dist-packages/statsmodels/tsa/base/tsa_model.py:537: ValueWarning: No frequency information was provided, so inferred frequency MS will be used.\n",
            "  % freq, ValueWarning)\n",
            "/usr/local/lib/python3.7/dist-packages/statsmodels/tsa/base/tsa_model.py:537: ValueWarning: No frequency information was provided, so inferred frequency MS will be used.\n",
            "  % freq, ValueWarning)\n",
            "/usr/local/lib/python3.7/dist-packages/statsmodels/tsa/base/tsa_model.py:537: ValueWarning: No frequency information was provided, so inferred frequency MS will be used.\n",
            "  % freq, ValueWarning)\n",
            "/usr/local/lib/python3.7/dist-packages/statsmodels/tsa/base/tsa_model.py:537: ValueWarning: No frequency information was provided, so inferred frequency MS will be used.\n",
            "  % freq, ValueWarning)\n",
            "/usr/local/lib/python3.7/dist-packages/statsmodels/tsa/base/tsa_model.py:537: ValueWarning: No frequency information was provided, so inferred frequency MS will be used.\n",
            "  % freq, ValueWarning)\n",
            "/usr/local/lib/python3.7/dist-packages/statsmodels/tsa/base/tsa_model.py:537: ValueWarning: No frequency information was provided, so inferred frequency MS will be used.\n",
            "  % freq, ValueWarning)\n",
            "/usr/local/lib/python3.7/dist-packages/statsmodels/tsa/base/tsa_model.py:537: ValueWarning: No frequency information was provided, so inferred frequency MS will be used.\n",
            "  % freq, ValueWarning)\n",
            "/usr/local/lib/python3.7/dist-packages/statsmodels/tsa/base/tsa_model.py:537: ValueWarning: No frequency information was provided, so inferred frequency MS will be used.\n",
            "  % freq, ValueWarning)\n",
            "/usr/local/lib/python3.7/dist-packages/statsmodels/tsa/base/tsa_model.py:537: ValueWarning: No frequency information was provided, so inferred frequency MS will be used.\n",
            "  % freq, ValueWarning)\n",
            "/usr/local/lib/python3.7/dist-packages/statsmodels/tsa/base/tsa_model.py:537: ValueWarning: No frequency information was provided, so inferred frequency MS will be used.\n",
            "  % freq, ValueWarning)\n",
            "/usr/local/lib/python3.7/dist-packages/statsmodels/base/model.py:584: ConvergenceWarning: Maximum Likelihood optimization failed to converge. Check mle_retvals\n",
            "  ConvergenceWarning)\n",
            "/usr/local/lib/python3.7/dist-packages/statsmodels/tsa/base/tsa_model.py:537: ValueWarning: No frequency information was provided, so inferred frequency MS will be used.\n",
            "  % freq, ValueWarning)\n",
            "/usr/local/lib/python3.7/dist-packages/statsmodels/tsa/base/tsa_model.py:537: ValueWarning: No frequency information was provided, so inferred frequency MS will be used.\n",
            "  % freq, ValueWarning)\n",
            "/usr/local/lib/python3.7/dist-packages/statsmodels/tsa/base/tsa_model.py:537: ValueWarning: No frequency information was provided, so inferred frequency MS will be used.\n",
            "  % freq, ValueWarning)\n",
            "/usr/local/lib/python3.7/dist-packages/statsmodels/tsa/base/tsa_model.py:537: ValueWarning: No frequency information was provided, so inferred frequency MS will be used.\n",
            "  % freq, ValueWarning)\n",
            "/usr/local/lib/python3.7/dist-packages/statsmodels/base/model.py:584: ConvergenceWarning: Maximum Likelihood optimization failed to converge. Check mle_retvals\n",
            "  ConvergenceWarning)\n"
          ],
          "name": "stderr"
        }
      ]
    },
    {
      "cell_type": "code",
      "metadata": {
        "colab": {
          "base_uri": "https://localhost:8080/"
        },
        "id": "YqmyNWadlExJ",
        "outputId": "b1c93e19-24ba-46dc-f44d-2c5f974ea8a9"
      },
      "source": [
        "aic_list\n"
      ],
      "execution_count": null,
      "outputs": [
        {
          "output_type": "execute_result",
          "data": {
            "text/plain": [
              "['ARIMA(0, 0, 0)x(0, 0, 0, 12) - AIC158.29519437946232 - P.VALOR IBCBR     0.000000e+00\\nsigma2    1.289146e-14\\ndtype: float64',\n",
              " 'ARIMA(0, 0, 0)x(0, 0, 1, 12) - AIC1.9500194821069101 - P.VALOR IBCBR       0.000000e+00\\nma.S.L12    1.005296e-39\\nsigma2      3.777062e-26\\ndtype: float64',\n",
              " 'ARIMA(0, 0, 0)x(0, 1, 0, 12) - AIC-24.50361912896139 - P.VALOR IBCBR     5.013494e-25\\nsigma2    9.161249e-22\\ndtype: float64',\n",
              " 'ARIMA(0, 0, 0)x(0, 1, 1, 12) - AIC-38.53756972173352 - P.VALOR IBCBR       7.952893e-26\\nma.S.L12    1.574406e-06\\nsigma2      4.479783e-25\\ndtype: float64',\n",
              " 'ARIMA(0, 0, 0)x(1, 0, 0, 12) - AIC3.703331567217525 - P.VALOR IBCBR       0.000000e+00\\nar.S.L12    2.668349e-51\\nsigma2      3.646163e-19\\ndtype: float64',\n",
              " 'ARIMA(0, 0, 0)x(1, 0, 1, 12) - AIC-27.784112478545808 - P.VALOR IBCBR       0.000000e+00\\nar.S.L12    1.351610e-10\\nma.S.L12    8.483458e-19\\nsigma2      3.111746e-32\\ndtype: float64',\n",
              " 'ARIMA(0, 0, 0)x(1, 1, 0, 12) - AIC-37.341010354013605 - P.VALOR IBCBR       8.121354e-28\\nar.S.L12    2.288799e-04\\nsigma2      2.301551e-23\\ndtype: float64',\n",
              " 'ARIMA(0, 0, 0)x(1, 1, 1, 12) - AIC-38.42511592136874 - P.VALOR IBCBR       1.496625e-22\\nar.S.L12    2.881758e-02\\nma.S.L12    1.169262e-05\\nsigma2      9.533005e-26\\ndtype: float64',\n",
              " 'ARIMA(0, 0, 1)x(0, 0, 0, 12) - AIC-58.562621937416324 - P.VALOR IBCBR      0.000000e+00\\nma.L1     1.923351e-131\\nsigma2     2.180776e-19\\ndtype: float64',\n",
              " 'ARIMA(0, 0, 1)x(0, 0, 1, 12) - AIC-159.84601178772985 - P.VALOR IBCBR       0.000000e+00\\nma.L1       3.267923e-82\\nma.S.L12    4.650902e-42\\nsigma2      3.917107e-29\\ndtype: float64',\n",
              " 'ARIMA(0, 0, 1)x(0, 1, 0, 12) - AIC-150.4570051168774 - P.VALOR IBCBR     1.131895e-21\\nma.L1     2.067003e-47\\nsigma2    2.110214e-28\\ndtype: float64',\n",
              " 'ARIMA(0, 0, 1)x(0, 1, 1, 12) - AIC-149.16235899954023 - P.VALOR IBCBR       6.868580e-21\\nma.L1       1.020608e-44\\nma.S.L12    3.552596e-01\\nsigma2      3.366527e-28\\ndtype: float64',\n",
              " 'ARIMA(0, 0, 1)x(1, 0, 0, 12) - AIC-160.88383927637307 - P.VALOR IBCBR       0.000000e+00\\nma.L1       8.139600e-77\\nar.S.L12    7.841556e-34\\nsigma2      3.091050e-26\\ndtype: float64',\n",
              " 'ARIMA(0, 0, 1)x(1, 0, 1, 12) - AIC-168.2231248817376 - P.VALOR IBCBR       0.000000e+00\\nma.L1       8.274443e-70\\nar.S.L12    2.148745e-06\\nma.S.L12    1.535604e-07\\nsigma2      6.544869e-30\\ndtype: float64',\n",
              " 'ARIMA(0, 0, 1)x(1, 1, 0, 12) - AIC-149.03925484778313 - P.VALOR IBCBR       1.344149e-20\\nma.L1       1.436555e-44\\nar.S.L12    4.575897e-01\\nsigma2      3.436862e-28\\ndtype: float64',\n",
              " 'ARIMA(0, 0, 1)x(1, 1, 1, 12) - AIC-152.01550468910747 - P.VALOR IBCBR       2.782778e-20\\nma.L1       6.147914e-44\\nar.S.L12    2.862105e-05\\nma.S.L12    6.545105e-09\\nsigma2      3.981800e-24\\ndtype: float64',\n",
              " 'ARIMA(0, 1, 0)x(0, 0, 0, 12) - AIC-398.63145964330386 - P.VALOR IBCBR     4.413401e-22\\nsigma2    7.395551e-32\\ndtype: float64',\n",
              " 'ARIMA(0, 1, 0)x(0, 0, 1, 12) - AIC-396.77478147993406 - P.VALOR IBCBR       4.099716e-22\\nma.S.L12    6.671834e-01\\nsigma2      7.999283e-32\\ndtype: float64',\n",
              " 'ARIMA(0, 1, 0)x(0, 1, 0, 12) - AIC-250.01956196387528 - P.VALOR IBCBR     9.257722e-15\\nsigma2    1.382091e-28\\ndtype: float64',\n",
              " 'ARIMA(0, 1, 0)x(0, 1, 1, 12) - AIC-331.1436079768181 - P.VALOR IBCBR       4.068252e-16\\nma.S.L12    3.494527e-15\\nsigma2      1.732173e-16\\ndtype: float64',\n",
              " 'ARIMA(0, 1, 0)x(1, 0, 0, 12) - AIC-396.7376626049723 - P.VALOR IBCBR       4.763865e-22\\nar.S.L12    7.524028e-01\\nsigma2      8.269671e-32\\ndtype: float64',\n",
              " 'ARIMA(0, 1, 0)x(1, 0, 1, 12) - AIC-399.49313624798333 - P.VALOR IBCBR       2.594081e-19\\nar.S.L12    1.942347e-05\\nma.S.L12    2.328438e-07\\nsigma2      6.982993e-31\\ndtype: float64',\n",
              " 'ARIMA(0, 1, 0)x(1, 1, 0, 12) - AIC-281.29252522709373 - P.VALOR IBCBR       1.045944e-12\\nar.S.L12    2.082959e-09\\nsigma2      1.373784e-29\\ndtype: float64',\n",
              " 'ARIMA(0, 1, 0)x(1, 1, 1, 12) - AIC-329.9256347699518 - P.VALOR IBCBR       2.826543e-15\\nar.S.L12    4.402977e-01\\nma.S.L12    3.908047e-05\\nsigma2      1.243674e-06\\ndtype: float64',\n",
              " 'ARIMA(0, 1, 1)x(0, 0, 0, 12) - AIC-401.6657887260877 - P.VALOR IBCBR     3.308857e-24\\nma.L1     6.958072e-04\\nsigma2    2.212769e-33\\ndtype: float64',\n",
              " 'ARIMA(0, 1, 1)x(0, 0, 1, 12) - AIC-400.19009040631886 - P.VALOR IBCBR       9.353091e-25\\nma.L1       5.313208e-04\\nma.S.L12    4.444604e-01\\nsigma2      2.606025e-33\\ndtype: float64',\n",
              " 'ARIMA(0, 1, 1)x(0, 1, 0, 12) - AIC-258.6802559064728 - P.VALOR IBCBR     3.799398e-15\\nma.L1     2.104428e-06\\nsigma2    2.800281e-32\\ndtype: float64',\n",
              " 'ARIMA(0, 1, 1)x(0, 1, 1, 12) - AIC-334.841939904219 - P.VALOR IBCBR       3.755015e-16\\nma.L1       9.876488e-04\\nma.S.L12    7.768022e-27\\nsigma2      1.786291e-23\\ndtype: float64',\n",
              " 'ARIMA(0, 1, 1)x(1, 0, 0, 12) - AIC-400.072873850179 - P.VALOR IBCBR       1.309955e-24\\nma.L1       6.032444e-04\\nar.S.L12    5.549882e-01\\nsigma2      2.867269e-33\\ndtype: float64',\n",
              " 'ARIMA(0, 1, 1)x(1, 0, 1, 12) - AIC-402.8272485326112 - P.VALOR IBCBR       2.379134e-21\\nma.L1       1.654071e-03\\nar.S.L12    4.667213e-05\\nma.S.L12    3.443895e-06\\nsigma2      1.221885e-29\\ndtype: float64',\n",
              " 'ARIMA(0, 1, 1)x(1, 1, 0, 12) - AIC-288.565546680837 - P.VALOR IBCBR       9.270549e-16\\nma.L1       6.270301e-05\\nar.S.L12    1.584276e-08\\nsigma2      1.358599e-33\\ndtype: float64',\n",
              " 'ARIMA(0, 1, 1)x(1, 1, 1, 12) - AIC-333.9710468806666 - P.VALOR IBCBR       3.857498e-16\\nma.L1       1.102499e-03\\nar.S.L12    3.275147e-01\\nma.S.L12    3.038288e-07\\nsigma2      1.300555e-09\\ndtype: float64',\n",
              " 'ARIMA(1, 0, 0)x(0, 0, 0, 12) - AIC-377.81977541573406 - P.VALOR IBCBR     0.000000e+00\\nar.L1     0.000000e+00\\nsigma2    4.114548e-61\\ndtype: float64',\n",
              " 'ARIMA(1, 0, 0)x(0, 0, 1, 12) - AIC-375.8198118688729 - P.VALOR IBCBR       0.000000e+00\\nar.L1       0.000000e+00\\nma.S.L12    9.942683e-01\\nsigma2      9.031360e-60\\ndtype: float64',\n",
              " 'ARIMA(1, 0, 0)x(0, 1, 0, 12) - AIC-263.5173364266621 - P.VALOR IBCBR      3.137451e-12\\nar.L1     2.137881e-123\\nsigma2     4.124909e-31\\ndtype: float64',\n",
              " 'ARIMA(1, 0, 0)x(0, 1, 1, 12) - AIC-332.73351115772857 - P.VALOR IBCBR       7.993331e-17\\nar.L1       0.000000e+00\\nma.S.L12    4.414136e-07\\nsigma2      6.478759e-09\\ndtype: float64',\n",
              " 'ARIMA(1, 0, 0)x(1, 0, 0, 12) - AIC-375.8198018779659 - P.VALOR IBCBR       0.000000e+00\\nar.L1       0.000000e+00\\nar.S.L12    9.960045e-01\\nsigma2      9.075959e-60\\ndtype: float64',\n",
              " 'ARIMA(1, 0, 0)x(1, 0, 1, 12) - AIC-377.9280737875766 - P.VALOR IBCBR       0.000000\\nar.L1       0.000000\\nar.S.L12    0.000007\\nma.S.L12    0.945415\\nsigma2      0.944740\\ndtype: float64',\n",
              " 'ARIMA(1, 0, 0)x(1, 1, 0, 12) - AIC-288.1731483144758 - P.VALOR IBCBR        1.014850e-10\\nar.L1       4.641939e-193\\nar.S.L12     4.869776e-08\\nsigma2       6.409980e-33\\ndtype: float64',\n",
              " 'ARIMA(1, 0, 0)x(1, 1, 1, 12) - AIC-331.55110430647136 - P.VALOR IBCBR       4.358038e-17\\nar.L1       0.000000e+00\\nar.S.L12    4.328886e-01\\nma.S.L12    2.009221e-06\\nsigma2      9.006318e-09\\ndtype: float64',\n",
              " 'ARIMA(1, 0, 1)x(0, 0, 0, 12) - AIC-377.61000801088676 - P.VALOR IBCBR     0.000000e+00\\nar.L1     0.000000e+00\\nma.L1     2.730734e-02\\nsigma2    1.891988e-57\\ndtype: float64',\n",
              " 'ARIMA(1, 0, 1)x(0, 0, 1, 12) - AIC-375.6416229828269 - P.VALOR IBCBR       0.000000e+00\\nar.L1       0.000000e+00\\nma.L1       2.993836e-02\\nma.S.L12    8.452302e-01\\nsigma2      4.405407e-57\\ndtype: float64',\n",
              " 'ARIMA(1, 0, 1)x(0, 1, 0, 12) - AIC-266.0208863148303 - P.VALOR IBCBR      4.829232e-13\\nar.L1     5.957127e-160\\nma.L1      4.694503e-03\\nsigma2     2.180885e-32\\ndtype: float64',\n",
              " 'ARIMA(1, 0, 1)x(0, 1, 1, 12) - AIC-336.15726353960474 - P.VALOR IBCBR       2.820048e-17\\nar.L1       0.000000e+00\\nma.L1       1.288568e-03\\nma.S.L12    1.172815e-22\\nsigma2      3.570945e-23\\ndtype: float64',\n",
              " 'ARIMA(1, 0, 1)x(1, 0, 0, 12) - AIC-375.633296659336 - P.VALOR IBCBR       0.000000e+00\\nar.L1       0.000000e+00\\nma.L1       3.070882e-02\\nar.S.L12    8.858926e-01\\nsigma2      4.225059e-57\\ndtype: float64',\n",
              " 'ARIMA(1, 0, 1)x(1, 0, 1, 12) - AIC-377.327722552995 - P.VALOR IBCBR       0.000000\\nar.L1       0.000000\\nma.L1       0.049439\\nar.S.L12    0.000033\\nma.S.L12    0.876513\\nsigma2      0.872713\\ndtype: float64',\n",
              " 'ARIMA(1, 0, 1)x(1, 1, 0, 12) - AIC-291.9961236144889 - P.VALOR IBCBR        2.584893e-13\\nar.L1       1.775237e-255\\nma.L1        2.669311e-03\\nar.S.L12     9.219657e-08\\nsigma2       3.386844e-34\\ndtype: float64',\n",
              " 'ARIMA(1, 0, 1)x(1, 1, 1, 12) - AIC-335.47717461408604 - P.VALOR IBCBR        5.294982e-18\\nar.L1       1.220389e-260\\nma.L1        9.791777e-04\\nar.S.L12     3.057569e-01\\nma.S.L12     5.054357e-02\\nsigma2       2.753525e-02\\ndtype: float64',\n",
              " 'ARIMA(1, 1, 0)x(0, 0, 0, 12) - AIC-400.44330147540217 - P.VALOR IBCBR     3.552049e-25\\nar.L1     1.012106e-02\\nsigma2    2.217015e-32\\ndtype: float64',\n",
              " 'ARIMA(1, 1, 0)x(0, 0, 1, 12) - AIC-398.86126035988207 - P.VALOR IBCBR       6.834207e-26\\nar.L1       7.684071e-03\\nma.S.L12    4.812415e-01\\nsigma2      3.004132e-32\\ndtype: float64',\n",
              " 'ARIMA(1, 1, 0)x(0, 1, 0, 12) - AIC-256.0299256658199 - P.VALOR IBCBR     2.165961e-16\\nar.L1     3.222614e-04\\nsigma2    7.931657e-30\\ndtype: float64',\n",
              " 'ARIMA(1, 1, 0)x(0, 1, 1, 12) - AIC-333.43999227883126 - P.VALOR IBCBR       1.615220e-17\\nar.L1       9.969657e-03\\nma.S.L12    3.669140e-25\\nsigma2      7.463454e-22\\ndtype: float64',\n",
              " 'ARIMA(1, 1, 0)x(1, 0, 0, 12) - AIC-398.7657074147337 - P.VALOR IBCBR       1.065404e-25\\nar.L1       8.329888e-03\\nar.S.L12    5.887636e-01\\nsigma2      3.008482e-32\\ndtype: float64',\n",
              " 'ARIMA(1, 1, 0)x(1, 0, 1, 12) - AIC-401.4421087232821 - P.VALOR IBCBR       3.531516e-22\\nar.L1       1.529741e-02\\nar.S.L12    3.256527e-05\\nma.S.L12    2.726748e-06\\nsigma2      5.853617e-29\\ndtype: float64',\n",
              " 'ARIMA(1, 1, 0)x(1, 1, 0, 12) - AIC-286.6033335554357 - P.VALOR IBCBR       1.087944e-16\\nar.L1       9.618449e-04\\nar.S.L12    1.346521e-08\\nsigma2      2.960207e-30\\ndtype: float64',\n",
              " 'ARIMA(1, 1, 0)x(1, 1, 1, 12) - AIC-332.49432730951924 - P.VALOR IBCBR       2.175878e-17\\nar.L1       8.699534e-03\\nar.S.L12    3.364541e-01\\nma.S.L12    5.069151e-05\\nsigma2      2.268766e-06\\ndtype: float64',\n",
              " 'ARIMA(1, 1, 1)x(0, 0, 0, 12) - AIC-402.6940243251262 - P.VALOR IBCBR     9.554729e-19\\nar.L1     5.655464e-02\\nma.L1     3.678787e-03\\nsigma2    4.720945e-35\\ndtype: float64',\n",
              " 'ARIMA(1, 1, 1)x(0, 0, 1, 12) - AIC-401.3093756805443 - P.VALOR IBCBR       4.698197e-19\\nar.L1       4.133384e-02\\nma.L1       1.535975e-03\\nma.S.L12    3.953239e-01\\nsigma2      5.122925e-35\\ndtype: float64',\n",
              " 'ARIMA(1, 1, 1)x(0, 1, 0, 12) - AIC-261.3755071128521 - P.VALOR IBCBR     1.551692e-14\\nar.L1     3.043794e-09\\nma.L1     2.781077e-31\\nsigma2    1.518257e-26\\ndtype: float64',\n",
              " 'ARIMA(1, 1, 1)x(0, 1, 1, 12) - AIC-335.71681540723614 - P.VALOR IBCBR       2.836692e-12\\nar.L1       6.758823e-02\\nma.L1       3.557115e-03\\nma.S.L12    9.074513e-25\\nsigma2      6.973115e-23\\ndtype: float64',\n",
              " 'ARIMA(1, 1, 1)x(1, 0, 0, 12) - AIC-401.1605725930088 - P.VALOR IBCBR       6.446490e-19\\nar.L1       4.559285e-02\\nma.L1       1.948585e-03\\nar.S.L12    5.277082e-01\\nsigma2      5.740129e-35\\ndtype: float64',\n",
              " 'ARIMA(1, 1, 1)x(1, 0, 1, 12) - AIC-404.52911995231017 - P.VALOR IBCBR       1.090305e-17\\nar.L1       3.577836e-02\\nma.L1       7.576060e-04\\nar.S.L12    1.939593e-05\\nma.S.L12    1.288005e-07\\nsigma2      4.838405e-32\\ndtype: float64',\n",
              " 'ARIMA(1, 1, 1)x(1, 1, 0, 12) - AIC-289.1176804961074 - P.VALOR IBCBR       7.903484e-13\\nar.L1       1.361126e-02\\nma.L1       1.366685e-05\\nar.S.L12    3.820287e-08\\nsigma2      3.408490e-28\\ndtype: float64',\n",
              " 'ARIMA(1, 1, 1)x(1, 1, 1, 12) - AIC-335.00515031681016 - P.VALOR IBCBR       2.792235e-12\\nar.L1       4.707422e-02\\nma.L1       1.260330e-03\\nar.S.L12    2.940455e-01\\nma.S.L12    6.517353e-02\\nsigma2      4.157383e-02\\ndtype: float64']"
            ]
          },
          "metadata": {
            "tags": []
          },
          "execution_count": 26
        }
      ]
    },
    {
      "cell_type": "markdown",
      "metadata": {
        "id": "DMtDOMLNFve9"
      },
      "source": [
        "##MODELO"
      ]
    },
    {
      "cell_type": "code",
      "metadata": {
        "colab": {
          "base_uri": "https://localhost:8080/",
          "height": 667
        },
        "id": "ZjtrDQMBpUVv",
        "outputId": "ae0e2afb-ed76-43de-c5a3-d87a45b48ee4"
      },
      "source": [
        "data.corr()"
      ],
      "execution_count": null,
      "outputs": [
        {
          "output_type": "execute_result",
          "data": {
            "text/html": [
              "<div>\n",
              "<style scoped>\n",
              "    .dataframe tbody tr th:only-of-type {\n",
              "        vertical-align: middle;\n",
              "    }\n",
              "\n",
              "    .dataframe tbody tr th {\n",
              "        vertical-align: top;\n",
              "    }\n",
              "\n",
              "    .dataframe thead th {\n",
              "        text-align: right;\n",
              "    }\n",
              "</style>\n",
              "<table border=\"1\" class=\"dataframe\">\n",
              "  <thead>\n",
              "    <tr style=\"text-align: right;\">\n",
              "      <th></th>\n",
              "      <th>Trucks</th>\n",
              "      <th>IBCBR</th>\n",
              "      <th>Corrente de Comércio</th>\n",
              "      <th>Confiança</th>\n",
              "      <th>Credito</th>\n",
              "      <th>Consumo de Energia</th>\n",
              "      <th>IC</th>\n",
              "      <th>du</th>\n",
              "      <th>Selic</th>\n",
              "      <th>PMC</th>\n",
              "      <th>PIM</th>\n",
              "      <th>NUCI</th>\n",
              "      <th>IAE</th>\n",
              "      <th>E</th>\n",
              "      <th>FBKF</th>\n",
              "      <th>IPCA</th>\n",
              "    </tr>\n",
              "  </thead>\n",
              "  <tbody>\n",
              "    <tr>\n",
              "      <th>Trucks</th>\n",
              "      <td>1.000000</td>\n",
              "      <td>0.434102</td>\n",
              "      <td>0.021655</td>\n",
              "      <td>0.631318</td>\n",
              "      <td>0.073159</td>\n",
              "      <td>0.171967</td>\n",
              "      <td>-0.296812</td>\n",
              "      <td>0.068942</td>\n",
              "      <td>-0.253067</td>\n",
              "      <td>0.249658</td>\n",
              "      <td>0.810348</td>\n",
              "      <td>0.636620</td>\n",
              "      <td>0.102825</td>\n",
              "      <td>-0.695549</td>\n",
              "      <td>0.672212</td>\n",
              "      <td>0.111479</td>\n",
              "    </tr>\n",
              "    <tr>\n",
              "      <th>IBCBR</th>\n",
              "      <td>0.434102</td>\n",
              "      <td>1.000000</td>\n",
              "      <td>0.821273</td>\n",
              "      <td>-0.080477</td>\n",
              "      <td>0.896465</td>\n",
              "      <td>0.940011</td>\n",
              "      <td>0.540042</td>\n",
              "      <td>0.003529</td>\n",
              "      <td>-0.634729</td>\n",
              "      <td>0.961423</td>\n",
              "      <td>0.559856</td>\n",
              "      <td>-0.072083</td>\n",
              "      <td>0.064866</td>\n",
              "      <td>-0.678918</td>\n",
              "      <td>0.921172</td>\n",
              "      <td>-0.012546</td>\n",
              "    </tr>\n",
              "    <tr>\n",
              "      <th>Corrente de Comércio</th>\n",
              "      <td>0.021655</td>\n",
              "      <td>0.821273</td>\n",
              "      <td>1.000000</td>\n",
              "      <td>-0.343250</td>\n",
              "      <td>0.918474</td>\n",
              "      <td>0.917861</td>\n",
              "      <td>0.800882</td>\n",
              "      <td>-0.022200</td>\n",
              "      <td>-0.678920</td>\n",
              "      <td>0.886122</td>\n",
              "      <td>0.128190</td>\n",
              "      <td>-0.460450</td>\n",
              "      <td>0.024407</td>\n",
              "      <td>-0.309793</td>\n",
              "      <td>0.610019</td>\n",
              "      <td>-0.047094</td>\n",
              "    </tr>\n",
              "    <tr>\n",
              "      <th>Confiança</th>\n",
              "      <td>0.631318</td>\n",
              "      <td>-0.080477</td>\n",
              "      <td>-0.343250</td>\n",
              "      <td>1.000000</td>\n",
              "      <td>-0.428799</td>\n",
              "      <td>-0.299422</td>\n",
              "      <td>-0.571052</td>\n",
              "      <td>0.034917</td>\n",
              "      <td>0.029348</td>\n",
              "      <td>-0.286941</td>\n",
              "      <td>0.618757</td>\n",
              "      <td>0.817925</td>\n",
              "      <td>0.615585</td>\n",
              "      <td>-0.420453</td>\n",
              "      <td>0.129014</td>\n",
              "      <td>0.158747</td>\n",
              "    </tr>\n",
              "    <tr>\n",
              "      <th>Credito</th>\n",
              "      <td>0.073159</td>\n",
              "      <td>0.896465</td>\n",
              "      <td>0.918474</td>\n",
              "      <td>-0.428799</td>\n",
              "      <td>1.000000</td>\n",
              "      <td>0.979728</td>\n",
              "      <td>0.810711</td>\n",
              "      <td>-0.011412</td>\n",
              "      <td>-0.707601</td>\n",
              "      <td>0.977202</td>\n",
              "      <td>0.144164</td>\n",
              "      <td>-0.487825</td>\n",
              "      <td>-0.061023</td>\n",
              "      <td>-0.362897</td>\n",
              "      <td>0.707141</td>\n",
              "      <td>-0.062285</td>\n",
              "    </tr>\n",
              "    <tr>\n",
              "      <th>Consumo de Energia</th>\n",
              "      <td>0.171967</td>\n",
              "      <td>0.940011</td>\n",
              "      <td>0.917861</td>\n",
              "      <td>-0.299422</td>\n",
              "      <td>0.979728</td>\n",
              "      <td>1.000000</td>\n",
              "      <td>0.765850</td>\n",
              "      <td>-0.000760</td>\n",
              "      <td>-0.700045</td>\n",
              "      <td>0.983624</td>\n",
              "      <td>0.277146</td>\n",
              "      <td>-0.353942</td>\n",
              "      <td>0.023473</td>\n",
              "      <td>-0.445710</td>\n",
              "      <td>0.768957</td>\n",
              "      <td>-0.040354</td>\n",
              "    </tr>\n",
              "    <tr>\n",
              "      <th>IC</th>\n",
              "      <td>-0.296812</td>\n",
              "      <td>0.540042</td>\n",
              "      <td>0.800882</td>\n",
              "      <td>-0.571052</td>\n",
              "      <td>0.810711</td>\n",
              "      <td>0.765850</td>\n",
              "      <td>1.000000</td>\n",
              "      <td>-0.032660</td>\n",
              "      <td>-0.600179</td>\n",
              "      <td>0.711898</td>\n",
              "      <td>-0.306547</td>\n",
              "      <td>-0.718065</td>\n",
              "      <td>-0.084218</td>\n",
              "      <td>0.168621</td>\n",
              "      <td>0.279892</td>\n",
              "      <td>-0.147414</td>\n",
              "    </tr>\n",
              "    <tr>\n",
              "      <th>du</th>\n",
              "      <td>0.068942</td>\n",
              "      <td>0.003529</td>\n",
              "      <td>-0.022200</td>\n",
              "      <td>0.034917</td>\n",
              "      <td>-0.011412</td>\n",
              "      <td>-0.000760</td>\n",
              "      <td>-0.032660</td>\n",
              "      <td>1.000000</td>\n",
              "      <td>0.034744</td>\n",
              "      <td>-0.001703</td>\n",
              "      <td>0.050501</td>\n",
              "      <td>0.048154</td>\n",
              "      <td>0.020695</td>\n",
              "      <td>-0.009279</td>\n",
              "      <td>0.080604</td>\n",
              "      <td>0.070175</td>\n",
              "    </tr>\n",
              "    <tr>\n",
              "      <th>Selic</th>\n",
              "      <td>-0.253067</td>\n",
              "      <td>-0.634729</td>\n",
              "      <td>-0.678920</td>\n",
              "      <td>0.029348</td>\n",
              "      <td>-0.707601</td>\n",
              "      <td>-0.700045</td>\n",
              "      <td>-0.600179</td>\n",
              "      <td>0.034744</td>\n",
              "      <td>1.000000</td>\n",
              "      <td>-0.697616</td>\n",
              "      <td>-0.106431</td>\n",
              "      <td>0.385119</td>\n",
              "      <td>-0.025761</td>\n",
              "      <td>0.285418</td>\n",
              "      <td>-0.518192</td>\n",
              "      <td>-0.037627</td>\n",
              "    </tr>\n",
              "    <tr>\n",
              "      <th>PMC</th>\n",
              "      <td>0.249658</td>\n",
              "      <td>0.961423</td>\n",
              "      <td>0.886122</td>\n",
              "      <td>-0.286941</td>\n",
              "      <td>0.977202</td>\n",
              "      <td>0.983624</td>\n",
              "      <td>0.711898</td>\n",
              "      <td>-0.001703</td>\n",
              "      <td>-0.697616</td>\n",
              "      <td>1.000000</td>\n",
              "      <td>0.324631</td>\n",
              "      <td>-0.313488</td>\n",
              "      <td>-0.018031</td>\n",
              "      <td>-0.493113</td>\n",
              "      <td>0.827376</td>\n",
              "      <td>-0.046382</td>\n",
              "    </tr>\n",
              "    <tr>\n",
              "      <th>PIM</th>\n",
              "      <td>0.810348</td>\n",
              "      <td>0.559856</td>\n",
              "      <td>0.128190</td>\n",
              "      <td>0.618757</td>\n",
              "      <td>0.144164</td>\n",
              "      <td>0.277146</td>\n",
              "      <td>-0.306547</td>\n",
              "      <td>0.050501</td>\n",
              "      <td>-0.106431</td>\n",
              "      <td>0.324631</td>\n",
              "      <td>1.000000</td>\n",
              "      <td>0.739938</td>\n",
              "      <td>0.288800</td>\n",
              "      <td>-0.857419</td>\n",
              "      <td>0.734486</td>\n",
              "      <td>0.101939</td>\n",
              "    </tr>\n",
              "    <tr>\n",
              "      <th>NUCI</th>\n",
              "      <td>0.636620</td>\n",
              "      <td>-0.072083</td>\n",
              "      <td>-0.460450</td>\n",
              "      <td>0.817925</td>\n",
              "      <td>-0.487825</td>\n",
              "      <td>-0.353942</td>\n",
              "      <td>-0.718065</td>\n",
              "      <td>0.048154</td>\n",
              "      <td>0.385119</td>\n",
              "      <td>-0.313488</td>\n",
              "      <td>0.739938</td>\n",
              "      <td>1.000000</td>\n",
              "      <td>0.379467</td>\n",
              "      <td>-0.450857</td>\n",
              "      <td>0.181543</td>\n",
              "      <td>0.087006</td>\n",
              "    </tr>\n",
              "    <tr>\n",
              "      <th>IAE</th>\n",
              "      <td>0.102825</td>\n",
              "      <td>0.064866</td>\n",
              "      <td>0.024407</td>\n",
              "      <td>0.615585</td>\n",
              "      <td>-0.061023</td>\n",
              "      <td>0.023473</td>\n",
              "      <td>-0.084218</td>\n",
              "      <td>0.020695</td>\n",
              "      <td>-0.025761</td>\n",
              "      <td>-0.018031</td>\n",
              "      <td>0.288800</td>\n",
              "      <td>0.379467</td>\n",
              "      <td>1.000000</td>\n",
              "      <td>-0.236056</td>\n",
              "      <td>0.047884</td>\n",
              "      <td>0.107033</td>\n",
              "    </tr>\n",
              "    <tr>\n",
              "      <th>E</th>\n",
              "      <td>-0.695549</td>\n",
              "      <td>-0.678918</td>\n",
              "      <td>-0.309793</td>\n",
              "      <td>-0.420453</td>\n",
              "      <td>-0.362897</td>\n",
              "      <td>-0.445710</td>\n",
              "      <td>0.168621</td>\n",
              "      <td>-0.009279</td>\n",
              "      <td>0.285418</td>\n",
              "      <td>-0.493113</td>\n",
              "      <td>-0.857419</td>\n",
              "      <td>-0.450857</td>\n",
              "      <td>-0.236056</td>\n",
              "      <td>1.000000</td>\n",
              "      <td>-0.767394</td>\n",
              "      <td>-0.187702</td>\n",
              "    </tr>\n",
              "    <tr>\n",
              "      <th>FBKF</th>\n",
              "      <td>0.672212</td>\n",
              "      <td>0.921172</td>\n",
              "      <td>0.610019</td>\n",
              "      <td>0.129014</td>\n",
              "      <td>0.707141</td>\n",
              "      <td>0.768957</td>\n",
              "      <td>0.279892</td>\n",
              "      <td>0.080604</td>\n",
              "      <td>-0.518192</td>\n",
              "      <td>0.827376</td>\n",
              "      <td>0.734486</td>\n",
              "      <td>0.181543</td>\n",
              "      <td>0.047884</td>\n",
              "      <td>-0.767394</td>\n",
              "      <td>1.000000</td>\n",
              "      <td>0.007884</td>\n",
              "    </tr>\n",
              "    <tr>\n",
              "      <th>IPCA</th>\n",
              "      <td>0.111479</td>\n",
              "      <td>-0.012546</td>\n",
              "      <td>-0.047094</td>\n",
              "      <td>0.158747</td>\n",
              "      <td>-0.062285</td>\n",
              "      <td>-0.040354</td>\n",
              "      <td>-0.147414</td>\n",
              "      <td>0.070175</td>\n",
              "      <td>-0.037627</td>\n",
              "      <td>-0.046382</td>\n",
              "      <td>0.101939</td>\n",
              "      <td>0.087006</td>\n",
              "      <td>0.107033</td>\n",
              "      <td>-0.187702</td>\n",
              "      <td>0.007884</td>\n",
              "      <td>1.000000</td>\n",
              "    </tr>\n",
              "  </tbody>\n",
              "</table>\n",
              "</div>"
            ],
            "text/plain": [
              "                        Trucks     IBCBR  ...      FBKF      IPCA\n",
              "Trucks                1.000000  0.434102  ...  0.672212  0.111479\n",
              "IBCBR                 0.434102  1.000000  ...  0.921172 -0.012546\n",
              "Corrente de Comércio  0.021655  0.821273  ...  0.610019 -0.047094\n",
              "Confiança             0.631318 -0.080477  ...  0.129014  0.158747\n",
              "Credito               0.073159  0.896465  ...  0.707141 -0.062285\n",
              "Consumo de Energia    0.171967  0.940011  ...  0.768957 -0.040354\n",
              "IC                   -0.296812  0.540042  ...  0.279892 -0.147414\n",
              "du                    0.068942  0.003529  ...  0.080604  0.070175\n",
              "Selic                -0.253067 -0.634729  ... -0.518192 -0.037627\n",
              "PMC                   0.249658  0.961423  ...  0.827376 -0.046382\n",
              "PIM                   0.810348  0.559856  ...  0.734486  0.101939\n",
              "NUCI                  0.636620 -0.072083  ...  0.181543  0.087006\n",
              "IAE                   0.102825  0.064866  ...  0.047884  0.107033\n",
              "E                    -0.695549 -0.678918  ... -0.767394 -0.187702\n",
              "FBKF                  0.672212  0.921172  ...  1.000000  0.007884\n",
              "IPCA                  0.111479 -0.012546  ...  0.007884  1.000000\n",
              "\n",
              "[16 rows x 16 columns]"
            ]
          },
          "metadata": {
            "tags": []
          },
          "execution_count": 27
        }
      ]
    },
    {
      "cell_type": "markdown",
      "metadata": {
        "id": "hl3E7Ew2pM5s"
      },
      "source": [
        "Usando a pesquisa de correlação e fazendo alguns testes, identificamos o conjunto de parâmetros que produzirá o modelo de melhor ajuste para nossos dados de série temporal. Podemos prosseguir para analisar este modelo específico com mais profundidade.\n"
      ]
    },
    {
      "cell_type": "code",
      "metadata": {
        "id": "KPsLgqg_jqDO"
      },
      "source": [
        "exorg = data['IBCBR']"
      ],
      "execution_count": null,
      "outputs": []
    },
    {
      "cell_type": "code",
      "metadata": {
        "colab": {
          "base_uri": "https://localhost:8080/"
        },
        "id": "50f_WxG0lGrL",
        "outputId": "35c8eb7b-07a7-4f36-cb1f-c98c23f58b2d"
      },
      "source": [
        "mod = sm.tsa.statespace.SARIMAX(y, order=(1,1,1), seasonal_order = (1,0,1,12), exog=exorg)\n",
        "results = mod.fit()\n",
        "\n"
      ],
      "execution_count": null,
      "outputs": [
        {
          "output_type": "stream",
          "text": [
            "/usr/local/lib/python3.7/dist-packages/statsmodels/tsa/base/tsa_model.py:537: ValueWarning: No frequency information was provided, so inferred frequency MS will be used.\n",
            "  % freq, ValueWarning)\n",
            "/usr/local/lib/python3.7/dist-packages/statsmodels/tsa/base/tsa_model.py:537: ValueWarning: No frequency information was provided, so inferred frequency MS will be used.\n",
            "  % freq, ValueWarning)\n",
            "/usr/local/lib/python3.7/dist-packages/statsmodels/base/model.py:584: ConvergenceWarning: Maximum Likelihood optimization failed to converge. Check mle_retvals\n",
            "  ConvergenceWarning)\n"
          ],
          "name": "stderr"
        }
      ]
    },
    {
      "cell_type": "code",
      "metadata": {
        "colab": {
          "base_uri": "https://localhost:8080/"
        },
        "id": "4Ftef7iNqfME",
        "outputId": "2ce93101-647e-458d-f400-3d761ed50ed5"
      },
      "source": [
        "print(results.summary())"
      ],
      "execution_count": null,
      "outputs": [
        {
          "output_type": "stream",
          "text": [
            "                                     SARIMAX Results                                      \n",
            "==========================================================================================\n",
            "Dep. Variable:                             Trucks   No. Observations:                  210\n",
            "Model:             SARIMAX(1, 1, 1)x(1, 0, 1, 12)   Log Likelihood                 208.265\n",
            "Date:                            Tue, 17 Aug 2021   AIC                           -404.529\n",
            "Time:                                    17:07:28   BIC                           -384.475\n",
            "Sample:                                01-01-2003   HQIC                          -396.421\n",
            "                                     - 06-01-2020                                         \n",
            "Covariance Type:                              opg                                         \n",
            "==============================================================================\n",
            "                 coef    std err          z      P>|z|      [0.025      0.975]\n",
            "------------------------------------------------------------------------------\n",
            "IBCBR          4.3589      0.509      8.564      0.000       3.361       5.357\n",
            "ar.L1          0.4553      0.217      2.099      0.036       0.030       0.880\n",
            "ma.L1         -0.6545      0.194     -3.368      0.001      -1.035      -0.274\n",
            "ar.S.L12      -0.7937      0.186     -4.272      0.000      -1.158      -0.430\n",
            "ma.S.L12       0.9162      0.174      5.281      0.000       0.576       1.256\n",
            "sigma2         0.0079      0.001     11.782      0.000       0.007       0.009\n",
            "===================================================================================\n",
            "Ljung-Box (L1) (Q):                   0.02   Jarque-Bera (JB):                36.04\n",
            "Prob(Q):                              0.88   Prob(JB):                         0.00\n",
            "Heteroskedasticity (H):               2.84   Skew:                            -0.27\n",
            "Prob(H) (two-sided):                  0.00   Kurtosis:                         4.96\n",
            "===================================================================================\n",
            "\n",
            "Warnings:\n",
            "[1] Covariance matrix calculated using the outer product of gradients (complex-step).\n"
          ],
          "name": "stdout"
        }
      ]
    },
    {
      "cell_type": "markdown",
      "metadata": {
        "id": "UgLtOHr3qLOa"
      },
      "source": [
        "results.summary resulta na saída de SARIMAX que retorna uma quantidade significativa de informações, mas vamos concentrar nossa atenção na tabela de coeficientes. A coluna de coeficiente mostra o peso (ou seja, importância) de cada recurso e como cada um impacta a série temporal. O P> | z | nos informa sobre a importância de cada peso. Aqui, cada peso tem um valor p inferior ou próximo a 0,05, portanto, é melhor mante-los em nosso modelo.\n",
        "\n",
        "O Ljung-Box nos ajuda a determinar se os erros residuais da regressão são autocorrelacionados de forma estatisticamente significativa. Nesse caso, o valor de p é 0,88, o que é significativamente maior do que 0,05 (limite de confiança de 95%). Portanto, aceitamos a hipótese nula do teste Ljung-Box de que os erros residuais não são autocorrelacionados.\n",
        "\n",
        "**O** **teste** **Ljung-Box** **pode** **ser** **definido** **como:**\n",
        "\n",
        "H0: Os dados são distribuídos de forma independente (ou seja, as correlações na população da qual a amostra é retirada são 0, de modo que quaisquer correlações observadas nos dados resultam da aleatoriedade do processo de amostragem).\n",
        "\n",
        "Ha: Os dados não são distribuídos de forma independente; eles exibem correlação serial.\n"
      ]
    },
    {
      "cell_type": "markdown",
      "metadata": {
        "id": "ZMxayFKTxdQr"
      },
      "source": [
        "##Sumário"
      ]
    },
    {
      "cell_type": "markdown",
      "metadata": {
        "id": "0jHQXCBfxdrv"
      },
      "source": [
        "Ao ajustar modelos ARIMA sazonais é importante executar o diagnóstico do modelo para garantir que nenhuma das suposições feitas pelo modelo foi violada. O objeto plot_diagnostics nos permite gerar diagnósticos de modelo rapidamente e investigar qualquer comportamento incomum."
      ]
    },
    {
      "cell_type": "code",
      "metadata": {
        "colab": {
          "base_uri": "https://localhost:8080/",
          "height": 513
        },
        "id": "h56Qgy6BnIKv",
        "outputId": "91e9b04e-8eb7-486c-abf0-303dc794c73f"
      },
      "source": [
        "results.plot_diagnostics(figsize=(16,8))\n",
        "plt.show()"
      ],
      "execution_count": null,
      "outputs": [
        {
          "output_type": "display_data",
          "data": {
            "image/png": "[encoded data removed]",
            "text/plain": [
              "<Figure size 1152x576 with 4 Axes>"
            ]
          },
          "metadata": {
            "tags": [],
            "needs_background": "light"
          }
        }
      ]
    },
    {
      "cell_type": "markdown",
      "metadata": {
        "id": "0tuYEjrorXHZ"
      },
      "source": [
        "Nossa principal preocupação é garantir que os resíduos de nosso modelo não estejam correlacionados e sejam normalmente distribuídos com média zero. Se o modelo ARIMA sazonal não satisfizer essas propriedades, é uma boa indicação de que pode ser melhorado.\n",
        "\n",
        "Neste caso, nosso diagnóstico do modelo sugere que os resíduos são normalmente distribuídos com base no seguinte:\n",
        "\n",
        "No gráfico superior direito, vemos que a linha laranja do KDE segue de perto a linha N (0,1) (onde N (0,1)) é a notação padrão para uma distribuição normal com média 0 e desvio padrão de 1) . Esta é uma boa indicação de que os resíduos estão normalmente distribuídos.\n",
        "\n",
        "O gráfico na parte inferior esquerda mostra que a distribuição ordenada de resíduos (pontos azuis) segue a tendência linear das amostras obtidas de uma distribuição normal padrão com N (0, 1), tendo apenas um leve desvio no inicio e no fim , isto é uma indicação de que os resíduos são normalmente distribuídos.\n",
        "Os resíduos ao longo do tempo (gráfico superior esquerdo) não exibem nenhuma sazonalidade óbvia e parecem ser ruído branco (Aleatoriamente distribuidos), isso é confirmado pelo gráfico de autocorrelação (correlogram) na parte inferior direita, que mostra que os resíduos da série temporal têm baixa correlação com as versões defasadas de si mesmos.\n",
        "Essas observações nos levam a concluir que nosso modelo produz um ajuste satisfatório que pode nos ajudar a entender nossos dados de série temporal e prever valores futuros.\n"
      ]
    },
    {
      "cell_type": "markdown",
      "metadata": {
        "id": "c9D5A3jEs2wZ"
      },
      "source": [
        "##Previsões"
      ]
    },
    {
      "cell_type": "markdown",
      "metadata": {
        "id": "C-C2Bwl-s1F3"
      },
      "source": [
        "Obtivemos um modelo para nossas séries temporais que agora pode ser usado para produzir previsões.\n"
      ]
    },
    {
      "cell_type": "code",
      "metadata": {
        "colab": {
          "base_uri": "https://localhost:8080/",
          "height": 471
        },
        "id": "gRzZcgJUlI6O",
        "outputId": "a4b71861-c376-4245-f41d-184350e46e21"
      },
      "source": [
        "plt.figure(figsize=(14,7))\n",
        "plt.title('Gráfico de previsão dos valores Observados', fontsize = 22)\n",
        "pred = results.get_prediction(start=pd.to_datetime('2019-01-01'),dynamic=False)\n",
        "pred_ci = pred.conf_int()\n",
        "ax = y['2015':].plot(label='Observados')\n",
        "pred.predicted_mean.plot(ax=ax, label='Previsto', color='r', alpha=0.7)\n",
        "ax.fill_between(pred_ci.index, pred_ci.iloc[:,0], pred_ci.iloc[:,1], color='k',alpha=0.25)\n",
        "plt.legend()\n",
        "ax.set_xlabel('Data',fontsize=16)\n",
        "ax.set_ylabel('Trucks',fontsize=16)\n",
        "plt.show()"
      ],
      "execution_count": null,
      "outputs": [
        {
          "output_type": "display_data",
          "data": {
            "image/png": "[encoded data removed]",
            "text/plain": [
              "<Figure size 1008x504 with 1 Axes>"
            ]
          },
          "metadata": {
            "tags": [],
            "needs_background": "light"
          }
        }
      ]
    },
    {
      "cell_type": "code",
      "metadata": {
        "id": "d-8uhiCckQ0L"
      },
      "source": [
        "data2 = data1.query('Date > \"2020-07-01\"')\n",
        "exog = data2['IBCBR']"
      ],
      "execution_count": null,
      "outputs": []
    },
    {
      "cell_type": "code",
      "metadata": {
        "colab": {
          "base_uri": "https://localhost:8080/",
          "height": 488
        },
        "id": "PgKVUKy1lLDD",
        "outputId": "d2374990-f4a1-4e9e-f5c2-e280c73bb266"
      },
      "source": [
        "pred_uc = results.get_forecast(steps = 12, exog = exog )\n",
        "pred_ci = pred_uc.conf_int()\n",
        "ax = y.plot(label='Observado',figsize=(14,7))\n",
        "pred_uc.predicted_mean.plot(ax=ax, label='Previsto', color='r', alpha=0.7)\n",
        "ax.fill_between(pred_ci.index, pred_ci.iloc[:,0], pred_ci.iloc[:,1],color='k',alpha=0.25)\n",
        "#fig = plt.plot(x,linestyle='--',color='green',label='Reais')\n",
        "\n",
        "plt.legend()\n",
        "plt.title('Gráfico de previsão', fontsize = 22)\n",
        "ax.set_xlabel('Data',fontsize=16)\n",
        "ax.set_ylabel('Trucks',fontsize=16)"
      ],
      "execution_count": null,
      "outputs": [
        {
          "output_type": "execute_result",
          "data": {
            "text/plain": [
              "Text(0, 0.5, 'Trucks')"
            ]
          },
          "metadata": {
            "tags": []
          },
          "execution_count": 34
        },
        {
          "output_type": "display_data",
          "data": {
            "image/png": "[encoded data removed]",
            "text/plain": [
              "<Figure size 1008x504 with 1 Axes>"
            ]
          },
          "metadata": {
            "tags": [],
            "needs_background": "light"
          }
        }
      ]
    },
    {
      "cell_type": "code",
      "metadata": {
        "colab": {
          "base_uri": "https://localhost:8080/",
          "height": 379
        },
        "id": "BUc19h5SlOgK",
        "outputId": "5e91115b-9a5a-4e55-f6e8-c25b43f0af50"
      },
      "source": [
        "x = data1['Trucks']\n",
        "plt.figure(figsize=(20,7))\n",
        "plt.title('Gráfico de comparação entre os valores Previsto x Observados', fontsize = 22)\n",
        "fig = plt.plot(x,linestyle='--',color='b',label='Reais')\n",
        "ax = y.plot(label='Observado', color='red')\n",
        "pred_uc.predicted_mean.plot(ax=ax, color='green', label='Previsto')\n",
        "ax.fill_between(pred_ci.index, pred_ci.iloc[:,0], pred_ci.iloc[:,1],color='k',alpha=0.25)\n",
        "plt.legend()"
      ],
      "execution_count": null,
      "outputs": [
        {
          "output_type": "execute_result",
          "data": {
            "text/plain": [
              "<matplotlib.legend.Legend at 0x7f7a9c4dc210>"
            ]
          },
          "metadata": {
            "tags": []
          },
          "execution_count": 35
        },
        {
          "output_type": "display_data",
          "data": {
            "image/png": "[encoded data removed]",
            "text/plain": [
              "<Figure size 1440x504 with 1 Axes>"
            ]
          },
          "metadata": {
            "tags": [],
            "needs_background": "light"
          }
        }
      ]
    },
    {
      "cell_type": "markdown",
      "metadata": {
        "id": "sYwR0Lqpz4ps"
      },
      "source": [
        "##Erro quadratico médio"
      ]
    },
    {
      "cell_type": "code",
      "metadata": {
        "id": "hzq4ZbG2wYbL"
      },
      "source": [
        "x = data1.query('Date > \"2020-07-01\"')\n",
        "x = x['Trucks']"
      ],
      "execution_count": null,
      "outputs": []
    },
    {
      "cell_type": "code",
      "metadata": {
        "id": "Tb9F2KGZwaJZ"
      },
      "source": [
        "pred = pred_uc.predicted_mean\n",
        "valores_previstos = []\n",
        "for z in pred:\n",
        "  valores_previstos.append(z)"
      ],
      "execution_count": null,
      "outputs": []
    },
    {
      "cell_type": "code",
      "metadata": {
        "id": "qRypfmXgjzvZ"
      },
      "source": [
        "import sklearn.metrics as metrics\n"
      ],
      "execution_count": null,
      "outputs": []
    },
    {
      "cell_type": "code",
      "metadata": {
        "colab": {
          "base_uri": "https://localhost:8080/"
        },
        "id": "qRkSrFzsztZm",
        "outputId": "b0684245-d798-4c53-b5e2-ba870e5ee889"
      },
      "source": [
        "metrics.mean_squared_error(x, valores_previstos)"
      ],
      "execution_count": null,
      "outputs": [
        {
          "output_type": "execute_result",
          "data": {
            "text/plain": [
              "0.03934824623518007"
            ]
          },
          "metadata": {
            "tags": []
          },
          "execution_count": 51
        }
      ]
    },
    {
      "cell_type": "markdown",
      "metadata": {
        "id": "nk_AFlyH3ljr"
      },
      "source": [
        "O erro quadratico médio é de 0.039, um valor proximo de zero. Isso significa que os valores previstos são muito proximos dos valores originais."
      ]
    },
    {
      "cell_type": "markdown",
      "metadata": {
        "id": "rJfVurUftwm8"
      },
      "source": [
        "##Métricas dos erros"
      ]
    },
    {
      "cell_type": "code",
      "metadata": {
        "id": "ujJneyfVfKi-"
      },
      "source": [
        "from sklearn.metrics import explained_variance_score\n",
        "from sklearn.metrics import mean_absolute_error\n",
        "from sklearn.metrics import r2_score"
      ],
      "execution_count": null,
      "outputs": []
    },
    {
      "cell_type": "code",
      "metadata": {
        "id": "rU2a4NM8-tDm"
      },
      "source": [
        "variance_score = metrics.explained_variance_score(x, valores_previstos)\n",
        "mean_absolute_error = metrics.mean_absolute_error(x, valores_previstos)"
      ],
      "execution_count": null,
      "outputs": []
    },
    {
      "cell_type": "code",
      "metadata": {
        "id": "nGKyjf5vgOAC",
        "colab": {
          "base_uri": "https://localhost:8080/"
        },
        "outputId": "a1d35632-2ae2-4fb2-dd12-8aa6b9b10ef6"
      },
      "source": [
        "print(f'variance score = {variance_score}\\nmean absolute error = {mean_absolute_error}')"
      ],
      "execution_count": null,
      "outputs": [
        {
          "output_type": "stream",
          "text": [
            "variance score = -0.45977186455483143\n",
            "mean absolute error = 0.1716866487751411\n"
          ],
          "name": "stdout"
        }
      ]
    },
    {
      "cell_type": "markdown",
      "metadata": {
        "id": "DUIn1iTYt4A_"
      },
      "source": [
        "##Erro absoluto entre os valores reais e previstos"
      ]
    },
    {
      "cell_type": "code",
      "metadata": {
        "id": "Hr_o56UGlBMY"
      },
      "source": [
        "observado_x_previsto = []\n",
        "for i in range(x.size):\n",
        "  observado_x_previsto.append(abs(x[i] - valores_previstos[i]))"
      ],
      "execution_count": null,
      "outputs": []
    },
    {
      "cell_type": "code",
      "metadata": {
        "id": "hpWDUzy4lVV0"
      },
      "source": [
        "observado_x_previsto = pd.DataFrame(observado_x_previsto, columns=['Erro absoluto entre os valores reais e previstos'])"
      ],
      "execution_count": null,
      "outputs": []
    },
    {
      "cell_type": "code",
      "metadata": {
        "id": "GnLQxa8EoxVe",
        "colab": {
          "base_uri": "https://localhost:8080/",
          "height": 421
        },
        "outputId": "dffc8e44-bfce-4347-9b38-ea14ec8ba8b6"
      },
      "source": [
        "observado_x_previsto"
      ],
      "execution_count": null,
      "outputs": [
        {
          "output_type": "execute_result",
          "data": {
            "text/html": [
              "<div>\n",
              "<style scoped>\n",
              "    .dataframe tbody tr th:only-of-type {\n",
              "        vertical-align: middle;\n",
              "    }\n",
              "\n",
              "    .dataframe tbody tr th {\n",
              "        vertical-align: top;\n",
              "    }\n",
              "\n",
              "    .dataframe thead th {\n",
              "        text-align: right;\n",
              "    }\n",
              "</style>\n",
              "<table border=\"1\" class=\"dataframe\">\n",
              "  <thead>\n",
              "    <tr style=\"text-align: right;\">\n",
              "      <th></th>\n",
              "      <th>Erro absoluto entre os valores reais e previstos</th>\n",
              "    </tr>\n",
              "  </thead>\n",
              "  <tbody>\n",
              "    <tr>\n",
              "      <th>0</th>\n",
              "      <td>0.171127</td>\n",
              "    </tr>\n",
              "    <tr>\n",
              "      <th>1</th>\n",
              "      <td>0.329573</td>\n",
              "    </tr>\n",
              "    <tr>\n",
              "      <th>2</th>\n",
              "      <td>0.307100</td>\n",
              "    </tr>\n",
              "    <tr>\n",
              "      <th>3</th>\n",
              "      <td>0.112712</td>\n",
              "    </tr>\n",
              "    <tr>\n",
              "      <th>4</th>\n",
              "      <td>0.178646</td>\n",
              "    </tr>\n",
              "    <tr>\n",
              "      <th>5</th>\n",
              "      <td>0.179357</td>\n",
              "    </tr>\n",
              "    <tr>\n",
              "      <th>6</th>\n",
              "      <td>0.201398</td>\n",
              "    </tr>\n",
              "    <tr>\n",
              "      <th>7</th>\n",
              "      <td>0.043021</td>\n",
              "    </tr>\n",
              "    <tr>\n",
              "      <th>8</th>\n",
              "      <td>0.113605</td>\n",
              "    </tr>\n",
              "    <tr>\n",
              "      <th>9</th>\n",
              "      <td>0.098085</td>\n",
              "    </tr>\n",
              "    <tr>\n",
              "      <th>10</th>\n",
              "      <td>0.313186</td>\n",
              "    </tr>\n",
              "    <tr>\n",
              "      <th>11</th>\n",
              "      <td>0.012431</td>\n",
              "    </tr>\n",
              "  </tbody>\n",
              "</table>\n",
              "</div>"
            ],
            "text/plain": [
              "    Erro absoluto entre os valores reais e previstos\n",
              "0                                           0.171127\n",
              "1                                           0.329573\n",
              "2                                           0.307100\n",
              "3                                           0.112712\n",
              "4                                           0.178646\n",
              "5                                           0.179357\n",
              "6                                           0.201398\n",
              "7                                           0.043021\n",
              "8                                           0.113605\n",
              "9                                           0.098085\n",
              "10                                          0.313186\n",
              "11                                          0.012431"
            ]
          },
          "metadata": {
            "tags": []
          },
          "execution_count": 57
        }
      ]
    },
    {
      "cell_type": "code",
      "metadata": {
        "colab": {
          "base_uri": "https://localhost:8080/"
        },
        "id": "2KxxS6jtDeQf",
        "outputId": "ad85ce8c-361e-4d08-e064-1a9a18b687d8"
      },
      "source": [
        "sumx = 0\n",
        "for i in x:\n",
        "  sumx+=i #soma dos valores originais\n",
        "\n",
        "sum_prev = 0\n",
        "for i in valores_previstos:\n",
        "  sum_prev+=i#soma dos valores previstos\n",
        "\n",
        "erro_absoluto = sumx - sum_prev # erro absoluto do acumalado das variáveis\n",
        "print(f'Soma dos valores originais: {round(sumx,2)}\\nSoma dos valores previstos: {round(sum_prev, 2)}\\nerro absoluto: {round(erro_absoluto, 2)}')"
      ],
      "execution_count": null,
      "outputs": [
        {
          "output_type": "stream",
          "text": [
            "Soma dos valores originais: 109.42\n",
            "Soma dos valores previstos: 110.63\n",
            "erro absoluto: -1.21\n"
          ],
          "name": "stdout"
        }
      ]
    }
  ]
}